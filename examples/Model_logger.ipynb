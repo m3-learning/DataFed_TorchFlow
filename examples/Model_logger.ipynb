{
 "cells": [
  {
   "cell_type": "markdown",
   "metadata": {},
   "source": [
    "# MNIST Example with Data Logging in DataFed"
   ]
  },
  {
   "cell_type": "markdown",
   "metadata": {},
   "source": [
    "## Import Libraries"
   ]
  },
  {
   "cell_type": "code",
   "execution_count": 3,
   "metadata": {},
   "outputs": [],
   "source": [
    "%load_ext autoreload\n",
    "%autoreload 2\n",
    "\n",
    "import torch\n",
    "import torch.nn as nn\n",
    "import torch.optim as optim\n",
    "import torch.nn.functional as F\n",
    "from torchvision import datasets, transforms\n",
    "from torch.utils.data import DataLoader\n"
   ]
  },
  {
   "cell_type": "markdown",
   "metadata": {},
   "source": [
    "## Builds the CNN"
   ]
  },
  {
   "cell_type": "code",
   "execution_count": 5,
   "metadata": {},
   "outputs": [],
   "source": [
    "# Define the CNN architecture\n",
    "class SimpleCNN(nn.Module):\n",
    "    def __init__(self):\n",
    "        super(SimpleCNN, self).__init__()\n",
    "        # Convolutional layers\n",
    "        self.conv1 = nn.Conv2d(in_channels=1, out_channels=32, kernel_size=3, padding=1)\n",
    "        self.conv2 = nn.Conv2d(in_channels=32, out_channels=64, kernel_size=3, padding=1)\n",
    "        \n",
    "        # Max pooling layer\n",
    "        self.pool = nn.MaxPool2d(kernel_size=2, stride=2)\n",
    "\n",
    "        # Fully connected layers\n",
    "        self.fc1 = nn.Linear(64 * 7 * 7, 128)\n",
    "        self.fc2 = nn.Linear(128, 10)  # Output layer for 10 classes (digits 0-9)\n",
    "    \n",
    "    def forward(self, x):\n",
    "        # Apply convolutional layers with ReLU and max pooling\n",
    "        x = self.pool(F.relu(self.conv1(x)))\n",
    "        x = self.pool(F.relu(self.conv2(x)))\n",
    "\n",
    "        # Flatten the output\n",
    "        x = x.view(-1, 64 * 7 * 7)\n",
    "\n",
    "        # Apply fully connected layers with ReLU and final output\n",
    "        x = F.relu(self.fc1(x))\n",
    "        x = self.fc2(x)\n",
    "        \n",
    "        return x\n"
   ]
  },
  {
   "cell_type": "markdown",
   "metadata": {},
   "source": [
    "## Define transformations for data preprocessing"
   ]
  },
  {
   "cell_type": "code",
   "execution_count": 4,
   "metadata": {},
   "outputs": [],
   "source": [
    "transform = transforms.Compose([\n",
    "    transforms.ToTensor(),  # Convert images to PyTorch tensors\n",
    "    transforms.Normalize((0.1307,), (0.3081,))  # Normalize with mean and std of MNIST dataset\n",
    "])\n"
   ]
  },
  {
   "cell_type": "markdown",
   "metadata": {},
   "source": [
    "## Load the MNIST dataset\n"
   ]
  },
  {
   "cell_type": "code",
   "execution_count": 7,
   "metadata": {},
   "outputs": [
    {
     "name": "stdout",
     "output_type": "stream",
     "text": [
      "Downloading http://yann.lecun.com/exdb/mnist/train-images-idx3-ubyte.gz\n",
      "Failed to download (trying next):\n",
      "HTTP Error 403: Forbidden\n",
      "\n",
      "Downloading https://ossci-datasets.s3.amazonaws.com/mnist/train-images-idx3-ubyte.gz\n",
      "Downloading https://ossci-datasets.s3.amazonaws.com/mnist/train-images-idx3-ubyte.gz to ./data/MNIST/raw/train-images-idx3-ubyte.gz\n"
     ]
    },
    {
     "name": "stderr",
     "output_type": "stream",
     "text": [
      "100%|██████████| 9912422/9912422 [00:00<00:00, 29539805.94it/s]\n"
     ]
    },
    {
     "name": "stdout",
     "output_type": "stream",
     "text": [
      "Extracting ./data/MNIST/raw/train-images-idx3-ubyte.gz to ./data/MNIST/raw\n",
      "\n",
      "Downloading http://yann.lecun.com/exdb/mnist/train-labels-idx1-ubyte.gz\n",
      "Failed to download (trying next):\n",
      "HTTP Error 403: Forbidden\n",
      "\n",
      "Downloading https://ossci-datasets.s3.amazonaws.com/mnist/train-labels-idx1-ubyte.gz\n",
      "Downloading https://ossci-datasets.s3.amazonaws.com/mnist/train-labels-idx1-ubyte.gz to ./data/MNIST/raw/train-labels-idx1-ubyte.gz\n"
     ]
    },
    {
     "name": "stderr",
     "output_type": "stream",
     "text": [
      "100%|██████████| 28881/28881 [00:00<00:00, 5651567.31it/s]"
     ]
    },
    {
     "name": "stdout",
     "output_type": "stream",
     "text": [
      "Extracting ./data/MNIST/raw/train-labels-idx1-ubyte.gz to ./data/MNIST/raw\n",
      "\n",
      "Downloading http://yann.lecun.com/exdb/mnist/t10k-images-idx3-ubyte.gz\n"
     ]
    },
    {
     "name": "stderr",
     "output_type": "stream",
     "text": [
      "\n"
     ]
    },
    {
     "name": "stdout",
     "output_type": "stream",
     "text": [
      "Failed to download (trying next):\n",
      "HTTP Error 403: Forbidden\n",
      "\n",
      "Downloading https://ossci-datasets.s3.amazonaws.com/mnist/t10k-images-idx3-ubyte.gz\n",
      "Downloading https://ossci-datasets.s3.amazonaws.com/mnist/t10k-images-idx3-ubyte.gz to ./data/MNIST/raw/t10k-images-idx3-ubyte.gz\n"
     ]
    },
    {
     "name": "stderr",
     "output_type": "stream",
     "text": [
      "100%|██████████| 1648877/1648877 [00:00<00:00, 34208635.38it/s]"
     ]
    },
    {
     "name": "stdout",
     "output_type": "stream",
     "text": [
      "Extracting ./data/MNIST/raw/t10k-images-idx3-ubyte.gz to ./data/MNIST/raw\n"
     ]
    },
    {
     "name": "stderr",
     "output_type": "stream",
     "text": [
      "\n"
     ]
    },
    {
     "name": "stdout",
     "output_type": "stream",
     "text": [
      "\n",
      "Downloading http://yann.lecun.com/exdb/mnist/t10k-labels-idx1-ubyte.gz\n",
      "Failed to download (trying next):\n",
      "HTTP Error 403: Forbidden\n",
      "\n",
      "Downloading https://ossci-datasets.s3.amazonaws.com/mnist/t10k-labels-idx1-ubyte.gz\n",
      "Downloading https://ossci-datasets.s3.amazonaws.com/mnist/t10k-labels-idx1-ubyte.gz to ./data/MNIST/raw/t10k-labels-idx1-ubyte.gz\n"
     ]
    },
    {
     "name": "stderr",
     "output_type": "stream",
     "text": [
      "100%|██████████| 4542/4542 [00:00<00:00, 4130643.71it/s]"
     ]
    },
    {
     "name": "stdout",
     "output_type": "stream",
     "text": [
      "Extracting ./data/MNIST/raw/t10k-labels-idx1-ubyte.gz to ./data/MNIST/raw\n",
      "\n"
     ]
    },
    {
     "name": "stderr",
     "output_type": "stream",
     "text": [
      "\n"
     ]
    }
   ],
   "source": [
    "train_dataset = datasets.MNIST(root='./data', train=True, download=True, transform=transform)\n",
    "test_dataset = datasets.MNIST(root='./data', train=False, download=True, transform=transform)\n",
    "\n",
    "# Create data loaders\n",
    "train_loader = DataLoader(dataset=train_dataset, batch_size=64, shuffle=True)\n",
    "test_loader = DataLoader(dataset=test_dataset, batch_size=1000, shuffle=False)\n"
   ]
  },
  {
   "cell_type": "markdown",
   "metadata": {},
   "source": [
    "## Instantiate the model, loss function, and optimizer\n"
   ]
  },
  {
   "cell_type": "code",
   "execution_count": 10,
   "metadata": {},
   "outputs": [],
   "source": [
    "model = SimpleCNN()\n",
    "criterion = nn.CrossEntropyLoss()  # Loss function for multi-class classification\n",
    "optimizer = optim.Adam(model.parameters(), lr=0.001)  # Adam optimizer\n"
   ]
  },
  {
   "cell_type": "markdown",
   "metadata": {},
   "source": [
    "## Training function\n"
   ]
  },
  {
   "cell_type": "code",
   "execution_count": 11,
   "metadata": {},
   "outputs": [],
   "source": [
    "def train(model, device, train_loader, optimizer, criterion, epoch):\n",
    "    model.train()  # Set the model to training mode\n",
    "    for batch_idx, (data, target) in enumerate(train_loader):\n",
    "        data, target = data.to(device), target.to(device)\n",
    "        optimizer.zero_grad()  # Zero the gradients\n",
    "\n",
    "        # Forward pass\n",
    "        output = model(data)\n",
    "        loss = criterion(output, target)\n",
    "\n",
    "        # Backward pass and optimization\n",
    "        loss.backward()\n",
    "        optimizer.step()\n",
    "\n",
    "        if batch_idx % 100 == 0:\n",
    "            print(f'Train Epoch: {epoch} [{batch_idx * len(data)}/{len(train_loader.dataset)} '\n",
    "                  f'({100. * batch_idx / len(train_loader):.0f}%)]\\tLoss: {loss.item():.6f}')\n"
   ]
  },
  {
   "cell_type": "markdown",
   "metadata": {},
   "source": [
    "## Testing function"
   ]
  },
  {
   "cell_type": "code",
   "execution_count": 12,
   "metadata": {},
   "outputs": [],
   "source": [
    "def test(model, device, test_loader, criterion):\n",
    "    model.eval()  # Set the model to evaluation mode\n",
    "    test_loss = 0\n",
    "    correct = 0\n",
    "    with torch.no_grad():  # Disable gradient calculation for evaluation\n",
    "        for data, target in test_loader:\n",
    "            data, target = data.to(device), target.to(device)\n",
    "\n",
    "            # Forward pass\n",
    "            output = model(data)\n",
    "            test_loss += criterion(output, target).item()  # Sum up the batch loss\n",
    "            pred = output.argmax(dim=1, keepdim=True)  # Get the index of the max log-probability\n",
    "            correct += pred.eq(target.view_as(pred)).sum().item()\n",
    "\n",
    "    test_loss /= len(test_loader.dataset)\n",
    "    accuracy = 100. * correct / len(test_loader.dataset)\n",
    "\n",
    "    print(f'\\nTest set: Average loss: {test_loss:.4f}, Accuracy: {correct}/{len(test_loader.dataset)} '\n",
    "          f'({accuracy:.2f}%)\\n')\n"
   ]
  },
  {
   "cell_type": "markdown",
   "metadata": {},
   "source": [
    "## Instantiate the DataFed Configuration"
   ]
  },
  {
   "cell_type": "code",
   "execution_count": 11,
   "metadata": {},
   "outputs": [
    {
     "name": "stdout",
     "output_type": "stream",
     "text": [
      "The autoreload extension is already loaded. To reload it, use:\n",
      "  %reload_ext autoreload\n"
     ]
    }
   ],
   "source": [
    "%load_ext autoreload\n",
    "%autoreload 2\n",
    "\n",
    "from datafed_torchflow.datafed import DataFed\n",
    "\n",
    "DataFed_path = \"delete/a/g\"\n",
    "\n",
    "instance = DataFed(DataFed_path)\n"
   ]
  },
  {
   "cell_type": "code",
   "execution_count": 12,
   "metadata": {},
   "outputs": [],
   "source": [
    "instance.create_subfolder_if_not_exits()"
   ]
  },
  {
   "cell_type": "code",
   "execution_count": 13,
   "metadata": {},
   "outputs": [
    {
     "data": {
      "text/plain": [
       "'c/525610589'"
      ]
     },
     "execution_count": 13,
     "metadata": {},
     "output_type": "execute_result"
    }
   ],
   "source": [
    "instance.collection_id"
   ]
  },
  {
   "cell_type": "code",
   "execution_count": 27,
   "metadata": {},
   "outputs": [],
   "source": [
    "# check if the sub-collection exists in DataFed\n",
    "ls_resp = self.collectionItemsList(self.getRootColl)\n",
    "\n",
    "trials_already_in_DataFed = []\n",
    "for record in ls_resp[0].item:\n",
    "    trials_already_in_DataFed.append(record.title)"
   ]
  },
  {
   "cell_type": "code",
   "execution_count": 1,
   "metadata": {},
   "outputs": [
    {
     "name": "stdout",
     "output_type": "stream",
     "text": [
      "Unable to connect to pypi: <Fault -32500: 'RuntimeError: PyPI no longer supports the XMLRPC package_releases method. Use JSON or Simple API instead. See https://github.com/pypi/warehouse/issues/16642 and https://warehouse.pypa.io/api-reference/xml-rpc.html#deprecated-methods for more information.'>\n",
      "Success! You have been authenticated into DataFed as: u/jca318\n",
      "Success! You have set up the Globus endpoint 7d7d5294-23aa-11ef-af02-21fa2ca908a5.\n"
     ]
    }
   ],
   "source": [
    "from datafed_torchflow.pytorch import TorchLogger\n",
    "\n",
    "DataFed_path = \"/delete/this/path\"\n",
    "\n",
    "model = []\n",
    "\n",
    "logger = TorchLogger(model, DataFed_path, verbose=True)"
   ]
  },
  {
   "cell_type": "markdown",
   "metadata": {},
   "source": [
    "## Train Model"
   ]
  },
  {
   "cell_type": "code",
   "execution_count": 13,
   "metadata": {},
   "outputs": [
    {
     "name": "stdout",
     "output_type": "stream",
     "text": [
      "Train Epoch: 1 [0/60000 (0%)]\tLoss: 2.312099\n",
      "Train Epoch: 1 [6400/60000 (11%)]\tLoss: 0.283328\n",
      "Train Epoch: 1 [12800/60000 (21%)]\tLoss: 0.116364\n",
      "Train Epoch: 1 [19200/60000 (32%)]\tLoss: 0.105909\n",
      "Train Epoch: 1 [25600/60000 (43%)]\tLoss: 0.096583\n",
      "Train Epoch: 1 [32000/60000 (53%)]\tLoss: 0.023996\n",
      "Train Epoch: 1 [38400/60000 (64%)]\tLoss: 0.190609\n",
      "Train Epoch: 1 [44800/60000 (75%)]\tLoss: 0.053661\n",
      "Train Epoch: 1 [51200/60000 (85%)]\tLoss: 0.034528\n",
      "Train Epoch: 1 [57600/60000 (96%)]\tLoss: 0.065710\n",
      "\n",
      "Test set: Average loss: 0.0000, Accuracy: 9865/10000 (98.65%)\n",
      "\n",
      "Train Epoch: 2 [0/60000 (0%)]\tLoss: 0.055813\n",
      "Train Epoch: 2 [6400/60000 (11%)]\tLoss: 0.239598\n",
      "Train Epoch: 2 [12800/60000 (21%)]\tLoss: 0.004509\n",
      "Train Epoch: 2 [19200/60000 (32%)]\tLoss: 0.011623\n",
      "Train Epoch: 2 [25600/60000 (43%)]\tLoss: 0.017995\n",
      "Train Epoch: 2 [32000/60000 (53%)]\tLoss: 0.022242\n",
      "Train Epoch: 2 [38400/60000 (64%)]\tLoss: 0.033130\n",
      "Train Epoch: 2 [44800/60000 (75%)]\tLoss: 0.023607\n",
      "Train Epoch: 2 [51200/60000 (85%)]\tLoss: 0.072322\n",
      "Train Epoch: 2 [57600/60000 (96%)]\tLoss: 0.036961\n",
      "\n",
      "Test set: Average loss: 0.0000, Accuracy: 9873/10000 (98.73%)\n",
      "\n",
      "Train Epoch: 3 [0/60000 (0%)]\tLoss: 0.020841\n",
      "Train Epoch: 3 [6400/60000 (11%)]\tLoss: 0.013914\n",
      "Train Epoch: 3 [12800/60000 (21%)]\tLoss: 0.007348\n",
      "Train Epoch: 3 [19200/60000 (32%)]\tLoss: 0.006292\n",
      "Train Epoch: 3 [25600/60000 (43%)]\tLoss: 0.083647\n",
      "Train Epoch: 3 [32000/60000 (53%)]\tLoss: 0.001541\n",
      "Train Epoch: 3 [38400/60000 (64%)]\tLoss: 0.020588\n",
      "Train Epoch: 3 [44800/60000 (75%)]\tLoss: 0.015861\n",
      "Train Epoch: 3 [51200/60000 (85%)]\tLoss: 0.011266\n",
      "Train Epoch: 3 [57600/60000 (96%)]\tLoss: 0.069747\n",
      "\n",
      "Test set: Average loss: 0.0000, Accuracy: 9881/10000 (98.81%)\n",
      "\n",
      "Train Epoch: 4 [0/60000 (0%)]\tLoss: 0.028659\n",
      "Train Epoch: 4 [6400/60000 (11%)]\tLoss: 0.021280\n",
      "Train Epoch: 4 [12800/60000 (21%)]\tLoss: 0.047073\n",
      "Train Epoch: 4 [19200/60000 (32%)]\tLoss: 0.020210\n",
      "Train Epoch: 4 [25600/60000 (43%)]\tLoss: 0.002163\n",
      "Train Epoch: 4 [32000/60000 (53%)]\tLoss: 0.029204\n",
      "Train Epoch: 4 [38400/60000 (64%)]\tLoss: 0.021596\n",
      "Train Epoch: 4 [44800/60000 (75%)]\tLoss: 0.018628\n",
      "Train Epoch: 4 [51200/60000 (85%)]\tLoss: 0.010079\n",
      "Train Epoch: 4 [57600/60000 (96%)]\tLoss: 0.014395\n",
      "\n",
      "Test set: Average loss: 0.0000, Accuracy: 9900/10000 (99.00%)\n",
      "\n",
      "Train Epoch: 5 [0/60000 (0%)]\tLoss: 0.002569\n",
      "Train Epoch: 5 [6400/60000 (11%)]\tLoss: 0.001119\n",
      "Train Epoch: 5 [12800/60000 (21%)]\tLoss: 0.038447\n",
      "Train Epoch: 5 [19200/60000 (32%)]\tLoss: 0.012901\n",
      "Train Epoch: 5 [25600/60000 (43%)]\tLoss: 0.000654\n",
      "Train Epoch: 5 [32000/60000 (53%)]\tLoss: 0.004425\n",
      "Train Epoch: 5 [38400/60000 (64%)]\tLoss: 0.008306\n",
      "Train Epoch: 5 [44800/60000 (75%)]\tLoss: 0.001590\n",
      "Train Epoch: 5 [51200/60000 (85%)]\tLoss: 0.005258\n",
      "Train Epoch: 5 [57600/60000 (96%)]\tLoss: 0.021318\n",
      "\n",
      "Test set: Average loss: 0.0000, Accuracy: 9904/10000 (99.04%)\n",
      "\n"
     ]
    }
   ],
   "source": [
    "# Train and test the CNN\n",
    "device = torch.device(\"cuda\" if torch.cuda.is_available() else \"cpu\")\n",
    "model.to(device)\n",
    "\n",
    "n_epochs = 5\n",
    "for epoch in range(1, n_epochs + 1):\n",
    "    train(model, device, train_loader, optimizer, criterion, epoch)\n",
    "    test(model, device, test_loader, criterion)"
   ]
  },
  {
   "cell_type": "code",
   "execution_count": null,
   "metadata": {},
   "outputs": [],
   "source": []
  },
  {
   "cell_type": "code",
   "execution_count": null,
   "metadata": {},
   "outputs": [],
   "source": [
    "\n",
    "# Function to save the model\n",
    "def save_model(model, filename=\"mnist_cnn.pth\"):\n",
    "    \"\"\"\n",
    "    Saves the model's state dictionary.\n",
    "\n",
    "    Args:\n",
    "        model: The PyTorch model to save.\n",
    "        filename (str): The file path to save the model state dictionary.\n",
    "    \"\"\"\n",
    "    torch.save(model.state_dict(), filename)\n",
    "    print(f\"Model saved to {filename}\")\n",
    "\n",
    "# Function to load the model\n",
    "def load_model(model, filename=\"mnist_cnn.pth\"):\n",
    "    \"\"\"\n",
    "    Loads the model's state dictionary.\n",
    "\n",
    "    Args:\n",
    "        model: The PyTorch model to load the state dictionary into.\n",
    "        filename (str): The file path to load the model state dictionary from.\n",
    "    \"\"\"\n",
    "    model.load_state_dict(torch.load(filename))\n",
    "    model.eval()  # Set the model to evaluation mode\n",
    "    print(f\"Model loaded from {filename}\")\n",
    "\n",
    "\n",
    "\n",
    "# Save the model after training\n",
    "save_model(model, \"mnist_cnn.pth\")\n",
    "\n",
    "# Load the model (optional)\n",
    "# load_model(model, \"mnist_cnn.pth\")\n"
   ]
  }
 ],
 "metadata": {
  "kernelspec": {
   "display_name": "m3",
   "language": "python",
   "name": "python3"
  },
  "language_info": {
   "codemirror_mode": {
    "name": "ipython",
    "version": 3
   },
   "file_extension": ".py",
   "mimetype": "text/x-python",
   "name": "python",
   "nbconvert_exporter": "python",
   "pygments_lexer": "ipython3",
   "version": "3.11.9"
  }
 },
 "nbformat": 4,
 "nbformat_minor": 2
}
