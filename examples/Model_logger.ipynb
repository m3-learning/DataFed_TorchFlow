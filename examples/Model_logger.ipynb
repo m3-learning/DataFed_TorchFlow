{
 "cells": [
  {
   "cell_type": "markdown",
   "metadata": {},
   "source": [
    "# MNIST Example with Data Logging in DataFed"
   ]
  },
  {
   "cell_type": "markdown",
   "metadata": {},
   "source": [
    "## Import Libraries"
   ]
  },
  {
   "cell_type": "code",
   "execution_count": 1,
   "metadata": {},
   "outputs": [],
   "source": [
    "%load_ext autoreload\n",
    "%autoreload 2\n",
    "\n",
    "import torch\n",
    "import torch.nn as nn\n",
    "import torch.optim as optim\n",
    "import torch.nn.functional as F\n",
    "from torchvision import datasets, transforms\n",
    "from torch.utils.data import DataLoader\n",
    "\n",
    "from datafed_torchflow.computer import get_system_info\n",
    "from datafed_torchflow.pytorch import TorchLogger\n"
   ]
  },
  {
   "cell_type": "markdown",
   "metadata": {},
   "source": [
    "## Paramters to Update"
   ]
  },
  {
   "cell_type": "code",
   "execution_count": 19,
   "metadata": {},
   "outputs": [],
   "source": [
    "notebook_path = '/home/jca92/DataFed_TorchFlow/examples/Model_logger.ipynb'"
   ]
  },
  {
   "cell_type": "code",
   "execution_count": 20,
   "metadata": {},
   "outputs": [
    {
     "data": {
      "text/plain": [
       "'d7bf695c1e715d80f5aee67817783414abee0c641f5ec1d07310ff574126badd'"
      ]
     },
     "execution_count": 20,
     "metadata": {},
     "output_type": "execute_result"
    }
   ],
   "source": [
    "\n",
    "\n",
    "calculate_notebook_checksum(notebook_path)"
   ]
  },
  {
   "cell_type": "markdown",
   "metadata": {},
   "source": [
    "## Builds the CNN"
   ]
  },
  {
   "cell_type": "code",
   "execution_count": 2,
   "metadata": {},
   "outputs": [],
   "source": [
    "# Define the CNN architecture\n",
    "class SimpleCNN(nn.Module):\n",
    "    def __init__(self):\n",
    "        super(SimpleCNN, self).__init__()\n",
    "        # Convolutional layers\n",
    "        self.conv1 = nn.Conv2d(in_channels=1, out_channels=32, kernel_size=3, padding=1)\n",
    "        self.conv2 = nn.Conv2d(in_channels=32, out_channels=64, kernel_size=3, padding=1)\n",
    "        \n",
    "        # Max pooling layer\n",
    "        self.pool = nn.MaxPool2d(kernel_size=2, stride=2)\n",
    "\n",
    "        # Fully connected layers\n",
    "        self.fc1 = nn.Linear(64 * 7 * 7, 128)\n",
    "        self.fc2 = nn.Linear(128, 10)  # Output layer for 10 classes (digits 0-9)\n",
    "    \n",
    "    def forward(self, x):\n",
    "        # Apply convolutional layers with ReLU and max pooling\n",
    "        x = self.pool(F.relu(self.conv1(x)))\n",
    "        x = self.pool(F.relu(self.conv2(x)))\n",
    "\n",
    "        # Flatten the output\n",
    "        x = x.view(-1, 64 * 7 * 7)\n",
    "\n",
    "        # Apply fully connected layers with ReLU and final output\n",
    "        x = F.relu(self.fc1(x))\n",
    "        x = self.fc2(x)\n",
    "        \n",
    "        return x\n"
   ]
  },
  {
   "cell_type": "markdown",
   "metadata": {},
   "source": [
    "## Define transformations for data preprocessing"
   ]
  },
  {
   "cell_type": "code",
   "execution_count": 3,
   "metadata": {},
   "outputs": [],
   "source": [
    "transform = transforms.Compose([\n",
    "    transforms.ToTensor(),  # Convert images to PyTorch tensors\n",
    "    transforms.Normalize((0.1307,), (0.3081,))  # Normalize with mean and std of MNIST dataset\n",
    "])\n"
   ]
  },
  {
   "cell_type": "markdown",
   "metadata": {},
   "source": [
    "## Load the MNIST dataset\n"
   ]
  },
  {
   "cell_type": "code",
   "execution_count": 4,
   "metadata": {},
   "outputs": [],
   "source": [
    "train_dataset = datasets.MNIST(root='./data', train=True, download=True, transform=transform)\n",
    "test_dataset = datasets.MNIST(root='./data', train=False, download=True, transform=transform)\n",
    "\n",
    "# Create data loaders\n",
    "train_loader = DataLoader(dataset=train_dataset, batch_size=64, shuffle=True)\n",
    "test_loader = DataLoader(dataset=test_dataset, batch_size=1000, shuffle=False)\n"
   ]
  },
  {
   "cell_type": "markdown",
   "metadata": {},
   "source": [
    "## Instantiate the model, loss function, and optimizer\n"
   ]
  },
  {
   "cell_type": "code",
   "execution_count": 5,
   "metadata": {},
   "outputs": [],
   "source": [
    "model = SimpleCNN()\n",
    "criterion = nn.CrossEntropyLoss()  # Loss function for multi-class classification\n",
    "optimizer = optim.Adam(model.parameters(), lr=0.001)  # Adam optimizer\n"
   ]
  },
  {
   "cell_type": "markdown",
   "metadata": {},
   "source": [
    "## Training function\n"
   ]
  },
  {
   "cell_type": "code",
   "execution_count": 6,
   "metadata": {},
   "outputs": [],
   "source": [
    "def train(model, device, train_loader, optimizer, criterion, epoch):\n",
    "    model.train()  # Set the model to training mode\n",
    "    for batch_idx, (data, target) in enumerate(train_loader):\n",
    "        data, target = data.to(device), target.to(device)\n",
    "        optimizer.zero_grad()  # Zero the gradients\n",
    "\n",
    "        # Forward pass\n",
    "        output = model(data)\n",
    "        loss = criterion(output, target)\n",
    "\n",
    "        # Backward pass and optimization\n",
    "        loss.backward()\n",
    "        optimizer.step()\n",
    "\n",
    "        if batch_idx % 100 == 0:\n",
    "            print(f'Train Epoch: {epoch} [{batch_idx * len(data)}/{len(train_loader.dataset)} '\n",
    "                  f'({100. * batch_idx / len(train_loader):.0f}%)]\\tLoss: {loss.item():.6f}')\n"
   ]
  },
  {
   "cell_type": "markdown",
   "metadata": {},
   "source": [
    "## Testing function"
   ]
  },
  {
   "cell_type": "code",
   "execution_count": 7,
   "metadata": {},
   "outputs": [],
   "source": [
    "def test(model, device, test_loader, criterion):\n",
    "    model.eval()  # Set the model to evaluation mode\n",
    "    test_loss = 0\n",
    "    correct = 0\n",
    "    with torch.no_grad():  # Disable gradient calculation for evaluation\n",
    "        for data, target in test_loader:\n",
    "            data, target = data.to(device), target.to(device)\n",
    "\n",
    "            # Forward pass\n",
    "            output = model(data)\n",
    "            test_loss += criterion(output, target).item()  # Sum up the batch loss\n",
    "            pred = output.argmax(dim=1, keepdim=True)  # Get the index of the max log-probability\n",
    "            correct += pred.eq(target.view_as(pred)).sum().item()\n",
    "\n",
    "    test_loss /= len(test_loader.dataset)\n",
    "    accuracy = 100. * correct / len(test_loader.dataset)\n",
    "\n",
    "    print(f'\\nTest set: Average loss: {test_loss:.4f}, Accuracy: {correct}/{len(test_loader.dataset)} '\n",
    "          f'({accuracy:.2f}%)\\n')\n"
   ]
  },
  {
   "cell_type": "markdown",
   "metadata": {},
   "source": [
    "## Instantiate the DataFed Configuration"
   ]
  },
  {
   "cell_type": "markdown",
   "metadata": {},
   "source": [
    "## Train Model"
   ]
  },
  {
   "cell_type": "code",
   "execution_count": 8,
   "metadata": {},
   "outputs": [
    {
     "name": "stdout",
     "output_type": "stream",
     "text": [
      "Train Epoch: 1 [0/60000 (0%)]\tLoss: 2.310217\n",
      "Train Epoch: 1 [6400/60000 (11%)]\tLoss: 0.125286\n",
      "Train Epoch: 1 [12800/60000 (21%)]\tLoss: 0.102723\n",
      "Train Epoch: 1 [19200/60000 (32%)]\tLoss: 0.154231\n",
      "Train Epoch: 1 [25600/60000 (43%)]\tLoss: 0.046221\n",
      "Train Epoch: 1 [32000/60000 (53%)]\tLoss: 0.190023\n",
      "Train Epoch: 1 [38400/60000 (64%)]\tLoss: 0.111314\n",
      "Train Epoch: 1 [44800/60000 (75%)]\tLoss: 0.063690\n",
      "Train Epoch: 1 [51200/60000 (85%)]\tLoss: 0.032729\n",
      "Train Epoch: 1 [57600/60000 (96%)]\tLoss: 0.036622\n",
      "\n",
      "Test set: Average loss: 0.0000, Accuracy: 9846/10000 (98.46%)\n",
      "\n",
      "Train Epoch: 2 [0/60000 (0%)]\tLoss: 0.005685\n",
      "Train Epoch: 2 [6400/60000 (11%)]\tLoss: 0.059265\n",
      "Train Epoch: 2 [12800/60000 (21%)]\tLoss: 0.017006\n",
      "Train Epoch: 2 [19200/60000 (32%)]\tLoss: 0.022063\n",
      "Train Epoch: 2 [25600/60000 (43%)]\tLoss: 0.017819\n",
      "Train Epoch: 2 [32000/60000 (53%)]\tLoss: 0.011843\n",
      "Train Epoch: 2 [38400/60000 (64%)]\tLoss: 0.002142\n",
      "Train Epoch: 2 [44800/60000 (75%)]\tLoss: 0.045371\n",
      "Train Epoch: 2 [51200/60000 (85%)]\tLoss: 0.097866\n",
      "Train Epoch: 2 [57600/60000 (96%)]\tLoss: 0.187446\n",
      "\n",
      "Test set: Average loss: 0.0000, Accuracy: 9876/10000 (98.76%)\n",
      "\n",
      "Train Epoch: 3 [0/60000 (0%)]\tLoss: 0.006314\n",
      "Train Epoch: 3 [6400/60000 (11%)]\tLoss: 0.136245\n",
      "Train Epoch: 3 [12800/60000 (21%)]\tLoss: 0.010146\n",
      "Train Epoch: 3 [19200/60000 (32%)]\tLoss: 0.046826\n",
      "Train Epoch: 3 [25600/60000 (43%)]\tLoss: 0.003496\n",
      "Train Epoch: 3 [32000/60000 (53%)]\tLoss: 0.018603\n",
      "Train Epoch: 3 [38400/60000 (64%)]\tLoss: 0.010104\n",
      "Train Epoch: 3 [44800/60000 (75%)]\tLoss: 0.053387\n",
      "Train Epoch: 3 [51200/60000 (85%)]\tLoss: 0.043187\n",
      "Train Epoch: 3 [57600/60000 (96%)]\tLoss: 0.003715\n",
      "\n",
      "Test set: Average loss: 0.0000, Accuracy: 9873/10000 (98.73%)\n",
      "\n",
      "Train Epoch: 4 [0/60000 (0%)]\tLoss: 0.027288\n",
      "Train Epoch: 4 [6400/60000 (11%)]\tLoss: 0.001066\n",
      "Train Epoch: 4 [12800/60000 (21%)]\tLoss: 0.003113\n",
      "Train Epoch: 4 [19200/60000 (32%)]\tLoss: 0.049112\n",
      "Train Epoch: 4 [25600/60000 (43%)]\tLoss: 0.004392\n",
      "Train Epoch: 4 [32000/60000 (53%)]\tLoss: 0.100684\n",
      "Train Epoch: 4 [38400/60000 (64%)]\tLoss: 0.006048\n",
      "Train Epoch: 4 [44800/60000 (75%)]\tLoss: 0.008749\n",
      "Train Epoch: 4 [51200/60000 (85%)]\tLoss: 0.169399\n",
      "Train Epoch: 4 [57600/60000 (96%)]\tLoss: 0.002537\n",
      "\n",
      "Test set: Average loss: 0.0000, Accuracy: 9912/10000 (99.12%)\n",
      "\n",
      "Train Epoch: 5 [0/60000 (0%)]\tLoss: 0.033842\n",
      "Train Epoch: 5 [6400/60000 (11%)]\tLoss: 0.001935\n",
      "Train Epoch: 5 [12800/60000 (21%)]\tLoss: 0.027664\n",
      "Train Epoch: 5 [19200/60000 (32%)]\tLoss: 0.004605\n",
      "Train Epoch: 5 [25600/60000 (43%)]\tLoss: 0.009819\n",
      "Train Epoch: 5 [32000/60000 (53%)]\tLoss: 0.030335\n",
      "Train Epoch: 5 [38400/60000 (64%)]\tLoss: 0.033775\n",
      "Train Epoch: 5 [44800/60000 (75%)]\tLoss: 0.007137\n",
      "Train Epoch: 5 [51200/60000 (85%)]\tLoss: 0.053965\n",
      "Train Epoch: 5 [57600/60000 (96%)]\tLoss: 0.020085\n",
      "\n",
      "Test set: Average loss: 0.0000, Accuracy: 9891/10000 (98.91%)\n",
      "\n"
     ]
    }
   ],
   "source": [
    "# Train and test the CNN\n",
    "device = torch.device(\"cuda\" if torch.cuda.is_available() else \"cpu\")\n",
    "model.to(device)\n",
    "\n",
    "n_epochs = 5\n",
    "for epoch in range(1, n_epochs + 1):\n",
    "    train(model, device, train_loader, optimizer, criterion, epoch)\n",
    "    test(model, device, test_loader, criterion)"
   ]
  },
  {
   "cell_type": "code",
   "execution_count": 13,
   "metadata": {},
   "outputs": [
    {
     "name": "stdout",
     "output_type": "stream",
     "text": [
      "Unable to connect to pypi: <Fault -32500: 'RuntimeError: PyPI no longer supports the XMLRPC package_releases method. Use JSON or Simple API instead. See https://github.com/pypi/warehouse/issues/16642 and https://warehouse.pypa.io/api-reference/xml-rpc.html#deprecated-methods for more information.'>\n",
      "Access to '/home/jca92/DataFed_TorchFlow/examples' confirmed.\n",
      "Output:\n",
      "\n"
     ]
    }
   ],
   "source": [
    "instance = TorchLogger(model, optimizer, 'delete/delete_me', )"
   ]
  },
  {
   "cell_type": "code",
   "execution_count": 18,
   "metadata": {},
   "outputs": [
    {
     "name": "stdout",
     "output_type": "stream",
     "text": [
      "/home/jca92/.local/share/jupyter/runtime\n"
     ]
    }
   ],
   "source": []
  },
  {
   "cell_type": "code",
   "execution_count": 11,
   "metadata": {},
   "outputs": [
    {
     "name": "stdout",
     "output_type": "stream",
     "text": [
      "Model saved to mnist_cnn.pth\n"
     ]
    }
   ],
   "source": [
    "\n",
    "# Function to save the model\n",
    "def save_model(model, filename=\"mnist_cnn.pth\"):\n",
    "    \"\"\"\n",
    "    Saves the model's state dictionary.\n",
    "\n",
    "    Args:\n",
    "        model: The PyTorch model to save.\n",
    "        filename (str): The file path to save the model state dictionary.\n",
    "    \"\"\"\n",
    "    torch.save(model.state_dict(), filename)\n",
    "    print(f\"Model saved to {filename}\")\n",
    "\n",
    "# Function to load the model\n",
    "def load_model(model, filename=\"mnist_cnn.pth\"):\n",
    "    \"\"\"\n",
    "    Loads the model's state dictionary.\n",
    "\n",
    "    Args:\n",
    "        model: The PyTorch model to load the state dictionary into.\n",
    "        filename (str): The file path to load the model state dictionary from.\n",
    "    \"\"\"\n",
    "    model.load_state_dict(torch.load(filename))\n",
    "    model.eval()  # Set the model to evaluation mode\n",
    "    print(f\"Model loaded from {filename}\")\n",
    "\n",
    "\n",
    "\n",
    "# Save the model after training\n",
    "save_model(model, \"mnist_cnn.pth\")\n",
    "\n",
    "# Load the model (optional)\n",
    "# load_model(model, \"mnist_cnn.pth\")\n"
   ]
  },
  {
   "cell_type": "code",
   "execution_count": null,
   "metadata": {},
   "outputs": [],
   "source": [
    "import json\n",
    "import os\n",
    "import ipykernel\n",
    "import requests\n",
    "from notebook import notebookapp\n",
    "\n",
    "def get_notebook_name():\n",
    "    kernel_id = os.path.basename(ipykernel.connect.get_connection_file()).split('-')[1]\n",
    "    servers = list(notebookapp.list_running_servers())\n",
    "    if servers:\n",
    "        for server in servers:\n",
    "            response = requests.get(f\"{server['url']}api/sessions\", params={'token': server.get('token', '')})\n",
    "            for session in json.loads(response.text):\n",
    "                if session['kernel']['id'] == kernel_id:\n",
    "                    return session['notebook']['path']"
   ]
  },
  {
   "cell_type": "code",
   "execution_count": 14,
   "metadata": {},
   "outputs": [
    {
     "data": {
      "text/plain": [
       "'Endpoint 7d7d5294-23aa-11ef-af02-21fa2ca908a5 is not active'"
      ]
     },
     "execution_count": 14,
     "metadata": {},
     "output_type": "execute_result"
    }
   ],
   "source": [
    "from m3util.globus.globus import check_globus_endpoint\n",
    "\n",
    "check_globus_endpoint(instance.df_api.endpointDefaultGet())"
   ]
  },
  {
   "cell_type": "code",
   "execution_count": 13,
   "metadata": {},
   "outputs": [
    {
     "ename": "GlobusAccessError",
     "evalue": "Unexpected error: Error accessing '/home/ferroelectric/DataFed_TorchFlow-1/examples': Usage: globus ls [OPTIONS] ENDPOINT_ID[:PATH]\n\nError: Invalid value for 'ENDPOINT_ID[:PATH]': '<bound method API.endpointDefaultGet of <datafed_torchflow.datafed.DataFed object at 0x7f3b74d44590>>' is not a valid UUID.",
     "output_type": "error",
     "traceback": [
      "\u001b[0;31m---------------------------------------------------------------------------\u001b[0m",
      "\u001b[0;31mGlobusAccessError\u001b[0m                         Traceback (most recent call last)",
      "File \u001b[0;32m~/M3Learning-Util/src/m3util/globus/globus.py:49\u001b[0m, in \u001b[0;36mcheck_globus_file_access\u001b[0;34m(endpoint_id, file_path)\u001b[0m\n\u001b[1;32m     47\u001b[0m     \u001b[38;5;28;01melse\u001b[39;00m:\n\u001b[1;32m     48\u001b[0m         \u001b[38;5;66;03m# Raise a custom error with details from stderr\u001b[39;00m\n\u001b[0;32m---> 49\u001b[0m         \u001b[38;5;28;01mraise\u001b[39;00m GlobusAccessError(\u001b[38;5;124mf\u001b[39m\u001b[38;5;124m\"\u001b[39m\u001b[38;5;124mError accessing \u001b[39m\u001b[38;5;124m'\u001b[39m\u001b[38;5;132;01m{\u001b[39;00mfile_path\u001b[38;5;132;01m}\u001b[39;00m\u001b[38;5;124m'\u001b[39m\u001b[38;5;124m: \u001b[39m\u001b[38;5;132;01m{\u001b[39;00mresult\u001b[38;5;241m.\u001b[39mstderr\u001b[38;5;241m.\u001b[39mstrip()\u001b[38;5;132;01m}\u001b[39;00m\u001b[38;5;124m\"\u001b[39m)\n\u001b[1;32m     50\u001b[0m \u001b[38;5;28;01mexcept\u001b[39;00m subprocess\u001b[38;5;241m.\u001b[39mCalledProcessError \u001b[38;5;28;01mas\u001b[39;00m e:\n",
      "\u001b[0;31mGlobusAccessError\u001b[0m: Error accessing '/home/ferroelectric/DataFed_TorchFlow-1/examples': Usage: globus ls [OPTIONS] ENDPOINT_ID[:PATH]\n\nError: Invalid value for 'ENDPOINT_ID[:PATH]': '<bound method API.endpointDefaultGet of <datafed_torchflow.datafed.DataFed object at 0x7f3b74d44590>>' is not a valid UUID.",
      "\nDuring handling of the above exception, another exception occurred:\n",
      "\u001b[0;31mGlobusAccessError\u001b[0m                         Traceback (most recent call last)",
      "Cell \u001b[0;32mIn[13], line 4\u001b[0m\n\u001b[1;32m      1\u001b[0m check_globus_endpoint(instance\u001b[38;5;241m.\u001b[39mdf_api\u001b[38;5;241m.\u001b[39mendpointDefaultGet())\n\u001b[1;32m      2\u001b[0m \u001b[38;5;28;01mfrom\u001b[39;00m \u001b[38;5;21;01mm3util\u001b[39;00m\u001b[38;5;21;01m.\u001b[39;00m\u001b[38;5;21;01mglobus\u001b[39;00m\u001b[38;5;21;01m.\u001b[39;00m\u001b[38;5;21;01mglobus\u001b[39;00m \u001b[38;5;28;01mimport\u001b[39;00m check_globus_file_access\n\u001b[0;32m----> 4\u001b[0m \u001b[43mcheck_globus_file_access\u001b[49m\u001b[43m(\u001b[49m\u001b[43minstance\u001b[49m\u001b[38;5;241;43m.\u001b[39;49m\u001b[43mdf_api\u001b[49m\u001b[38;5;241;43m.\u001b[39;49m\u001b[43mendpointDefaultGet\u001b[49m\u001b[43m,\u001b[49m\u001b[43m \u001b[49m\u001b[43minstance\u001b[49m\u001b[38;5;241;43m.\u001b[39;49m\u001b[43mlocal_path\u001b[49m\u001b[43m)\u001b[49m\n",
      "File \u001b[0;32m~/M3Learning-Util/src/m3util/globus/globus.py:53\u001b[0m, in \u001b[0;36mcheck_globus_file_access\u001b[0;34m(endpoint_id, file_path)\u001b[0m\n\u001b[1;32m     51\u001b[0m     \u001b[38;5;28;01mraise\u001b[39;00m GlobusAccessError(\u001b[38;5;124mf\u001b[39m\u001b[38;5;124m\"\u001b[39m\u001b[38;5;124mSubprocess error: \u001b[39m\u001b[38;5;132;01m{\u001b[39;00m\u001b[38;5;28mstr\u001b[39m(e)\u001b[38;5;132;01m}\u001b[39;00m\u001b[38;5;124m\"\u001b[39m)\n\u001b[1;32m     52\u001b[0m \u001b[38;5;28;01mexcept\u001b[39;00m \u001b[38;5;167;01mException\u001b[39;00m \u001b[38;5;28;01mas\u001b[39;00m e:\n\u001b[0;32m---> 53\u001b[0m     \u001b[38;5;28;01mraise\u001b[39;00m GlobusAccessError(\u001b[38;5;124mf\u001b[39m\u001b[38;5;124m\"\u001b[39m\u001b[38;5;124mUnexpected error: \u001b[39m\u001b[38;5;132;01m{\u001b[39;00m\u001b[38;5;28mstr\u001b[39m(e)\u001b[38;5;132;01m}\u001b[39;00m\u001b[38;5;124m\"\u001b[39m)\n",
      "\u001b[0;31mGlobusAccessError\u001b[0m: Unexpected error: Error accessing '/home/ferroelectric/DataFed_TorchFlow-1/examples': Usage: globus ls [OPTIONS] ENDPOINT_ID[:PATH]\n\nError: Invalid value for 'ENDPOINT_ID[:PATH]': '<bound method API.endpointDefaultGet of <datafed_torchflow.datafed.DataFed object at 0x7f3b74d44590>>' is not a valid UUID."
     ]
    }
   ],
   "source": [
    "check_globus_endpoint(instance.df_api.endpointDefaultGet())\n",
    "from m3util.globus.globus import check_globus_file_access\n",
    "\n",
    "check_globus_file_access(instance.df_api.endpointDefaultGet, instance.local_path)"
   ]
  },
  {
   "cell_type": "code",
   "execution_count": null,
   "metadata": {},
   "outputs": [],
   "source": []
  }
 ],
 "metadata": {
  "kernelspec": {
   "display_name": "m3",
   "language": "python",
   "name": "python3"
  },
  "language_info": {
   "codemirror_mode": {
    "name": "ipython",
    "version": 3
   },
   "file_extension": ".py",
   "mimetype": "text/x-python",
   "name": "python",
   "nbconvert_exporter": "python",
   "pygments_lexer": "ipython3",
   "version": "3.11.9"
  }
 },
 "nbformat": 4,
 "nbformat_minor": 2
}
