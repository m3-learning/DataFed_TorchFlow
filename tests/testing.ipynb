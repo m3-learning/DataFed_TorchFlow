{
 "cells": [
  {
   "cell_type": "code",
   "execution_count": 1,
   "metadata": {},
   "outputs": [],
   "source": [
    "import numpy as np\n",
    "from datafed.CommandLib import API"
   ]
  },
  {
   "cell_type": "code",
   "execution_count": 2,
   "metadata": {},
   "outputs": [],
   "source": [
    "df_api = API()\n"
   ]
  },
  {
   "cell_type": "code",
   "execution_count": 27,
   "metadata": {},
   "outputs": [],
   "source": [
    "record_path = df_api.collectionGetParents(\"d/525617439\")"
   ]
  },
  {
   "cell_type": "code",
   "execution_count": 28,
   "metadata": {},
   "outputs": [
    {
     "data": {
      "text/plain": [
       "(path {\n",
       "   item {\n",
       "     id: \"c/525610513\"\n",
       "     title: \"model_080824\"\n",
       "   }\n",
       "   item {\n",
       "     id: \"c/525610492\"\n",
       "     title: \"Piezoresponse_Dataset\"\n",
       "   }\n",
       "   item {\n",
       "     id: \"c/p_2024_transformer_vae_results_root\"\n",
       "     title: \"Root Collection\"\n",
       "     alias: \"root\"\n",
       "   }\n",
       " },\n",
       " 'CollPathReply')"
      ]
     },
     "execution_count": 28,
     "metadata": {},
     "output_type": "execute_result"
    }
   ],
   "source": [
    "record_path"
   ]
  },
  {
   "cell_type": "code",
   "execution_count": 29,
   "metadata": {},
   "outputs": [
    {
     "name": "stdout",
     "output_type": "stream",
     "text": [
      "c/525610513\n",
      "c/525610492\n",
      "c/p_2024_transformer_vae_results_root\n"
     ]
    }
   ],
   "source": [
    "for i in range(len(record_path[0].path[0].item)):\n",
    "    print(record_path[0].path[0].item[i].id)"
   ]
  },
  {
   "cell_type": "code",
   "execution_count": 30,
   "metadata": {},
   "outputs": [
    {
     "data": {
      "text/plain": [
       "(path {\n",
       "   item {\n",
       "     id: \"c/525610492\"\n",
       "     title: \"Piezoresponse_Dataset\"\n",
       "   }\n",
       "   item {\n",
       "     id: \"c/p_2024_transformer_vae_results_root\"\n",
       "     title: \"Root Collection\"\n",
       "     alias: \"root\"\n",
       "   }\n",
       " },\n",
       " 'CollPathReply')"
      ]
     },
     "execution_count": 30,
     "metadata": {},
     "output_type": "execute_result"
    }
   ],
   "source": [
    "df_api.collectionGetParents(\"c/525610513\")"
   ]
  },
  {
   "cell_type": "code",
   "execution_count": 37,
   "metadata": {},
   "outputs": [
    {
     "name": "stdout",
     "output_type": "stream",
     "text": [
      "c/p_2024_transformer_vae_results_root\n"
     ]
    }
   ],
   "source": [
    "DataFed_project_test = \"2024_Transformer_VAE_Results\"\n",
    "print(f\"c/p_{DataFed_project_test.lower()}_root\") # project IDs have this format \n",
    "ls_resp = df_api.collectionItemsList(f\"c/p_{DataFed_project_test.lower()}_root\")\n"
   ]
  },
  {
   "cell_type": "code",
   "execution_count": 38,
   "metadata": {},
   "outputs": [
    {
     "data": {
      "text/plain": [
       "(item {\n",
       "   id: \"c/525610490\"\n",
       "   title: \"4DSTEM_Dataset\"\n",
       "   owner: \"p/2024_transformer_vae_results\"\n",
       "   creator: \"u/jg3837\"\n",
       "   notes: 0\n",
       " }\n",
       " item {\n",
       "   id: \"c/525610491\"\n",
       "   title: \"Nala_Dataset\"\n",
       "   owner: \"p/2024_transformer_vae_results\"\n",
       "   creator: \"u/jg3837\"\n",
       "   notes: 0\n",
       " }\n",
       " item {\n",
       "   id: \"c/525610492\"\n",
       "   title: \"Piezoresponse_Dataset\"\n",
       "   owner: \"p/2024_transformer_vae_results\"\n",
       "   creator: \"u/jg3837\"\n",
       "   notes: 0\n",
       " }\n",
       " offset: 0\n",
       " count: 20\n",
       " total: 3,\n",
       " 'ListingReply')"
      ]
     },
     "execution_count": 38,
     "metadata": {},
     "output_type": "execute_result"
    }
   ],
   "source": [
    "ls_resp"
   ]
  },
  {
   "cell_type": "code",
   "execution_count": 50,
   "metadata": {},
   "outputs": [
    {
     "ename": "Exception",
     "evalue": "Alias 'Nala_Dataset' does not exist\n(source: dbGet:138 code:1)\n",
     "output_type": "error",
     "traceback": [
      "\u001b[0;31m---------------------------------------------------------------------------\u001b[0m",
      "\u001b[0;31mException\u001b[0m                                 Traceback (most recent call last)",
      "Cell \u001b[0;32mIn[50], line 1\u001b[0m\n\u001b[0;32m----> 1\u001b[0m \u001b[43mdf_api\u001b[49m\u001b[38;5;241;43m.\u001b[39;49m\u001b[43mcollectionItemsList\u001b[49m\u001b[43m(\u001b[49m\u001b[38;5;124;43m\"\u001b[39;49m\u001b[38;5;124;43mNala_Dataset\u001b[39;49m\u001b[38;5;124;43m\"\u001b[39;49m\u001b[43m)\u001b[49m\n",
      "File \u001b[0;32m~/anaconda3/envs/TransformerVAE6/lib/python3.10/site-packages/datafed/CommandLib.py:1242\u001b[0m, in \u001b[0;36mAPI.collectionItemsList\u001b[0;34m(self, coll_id, offset, count, context)\u001b[0m\n\u001b[1;32m   1239\u001b[0m msg\u001b[38;5;241m.\u001b[39moffset \u001b[38;5;241m=\u001b[39m offset\n\u001b[1;32m   1240\u001b[0m msg\u001b[38;5;241m.\u001b[39mid \u001b[38;5;241m=\u001b[39m \u001b[38;5;28mself\u001b[39m\u001b[38;5;241m.\u001b[39m_resolve_id(coll_id, context)\n\u001b[0;32m-> 1242\u001b[0m \u001b[38;5;28;01mreturn\u001b[39;00m \u001b[38;5;28;43mself\u001b[39;49m\u001b[38;5;241;43m.\u001b[39;49m\u001b[43m_mapi\u001b[49m\u001b[38;5;241;43m.\u001b[39;49m\u001b[43msendRecv\u001b[49m\u001b[43m(\u001b[49m\u001b[43mmsg\u001b[49m\u001b[43m)\u001b[49m\n",
      "File \u001b[0;32m~/anaconda3/envs/TransformerVAE6/lib/python3.10/site-packages/datafed/MessageLib.py:384\u001b[0m, in \u001b[0;36mAPI.sendRecv\u001b[0;34m(self, msg, timeout, nack_except)\u001b[0m\n\u001b[1;32m    382\u001b[0m \u001b[38;5;28mself\u001b[39m\u001b[38;5;241m.\u001b[39msend(msg)\n\u001b[1;32m    383\u001b[0m _timeout \u001b[38;5;241m=\u001b[39m timeout \u001b[38;5;28;01mif\u001b[39;00m timeout \u001b[38;5;129;01mis\u001b[39;00m \u001b[38;5;129;01mnot\u001b[39;00m \u001b[38;5;28;01mNone\u001b[39;00m \u001b[38;5;28;01melse\u001b[39;00m \u001b[38;5;28mself\u001b[39m\u001b[38;5;241m.\u001b[39m_timeout\n\u001b[0;32m--> 384\u001b[0m reply, mt, ctxt \u001b[38;5;241m=\u001b[39m \u001b[38;5;28;43mself\u001b[39;49m\u001b[38;5;241;43m.\u001b[39;49m\u001b[43mrecv\u001b[49m\u001b[43m(\u001b[49m\u001b[43m_timeout\u001b[49m\u001b[43m,\u001b[49m\u001b[43m \u001b[49m\u001b[43mnack_except\u001b[49m\u001b[43m)\u001b[49m\n\u001b[1;32m    385\u001b[0m \u001b[38;5;28;01mif\u001b[39;00m reply \u001b[38;5;129;01mis\u001b[39;00m \u001b[38;5;28;01mNone\u001b[39;00m:\n\u001b[1;32m    386\u001b[0m     \u001b[38;5;28;01mraise\u001b[39;00m \u001b[38;5;167;01mException\u001b[39;00m(\u001b[38;5;124m\"\u001b[39m\u001b[38;5;124mTimeout!!!!!!!!!\u001b[39m\u001b[38;5;124m\"\u001b[39m)\n",
      "File \u001b[0;32m~/anaconda3/envs/TransformerVAE6/lib/python3.10/site-packages/datafed/MessageLib.py:429\u001b[0m, in \u001b[0;36mAPI.recv\u001b[0;34m(self, timeout, nack_except)\u001b[0m\n\u001b[1;32m    427\u001b[0m \u001b[38;5;28;01mif\u001b[39;00m msg_type \u001b[38;5;241m==\u001b[39m \u001b[38;5;124m\"\u001b[39m\u001b[38;5;124mNackReply\u001b[39m\u001b[38;5;124m\"\u001b[39m \u001b[38;5;129;01mand\u001b[39;00m _nack_except:\n\u001b[1;32m    428\u001b[0m     \u001b[38;5;28;01mif\u001b[39;00m reply\u001b[38;5;241m.\u001b[39merr_msg:\n\u001b[0;32m--> 429\u001b[0m         \u001b[38;5;28;01mraise\u001b[39;00m \u001b[38;5;167;01mException\u001b[39;00m(reply\u001b[38;5;241m.\u001b[39merr_msg)\n\u001b[1;32m    430\u001b[0m     \u001b[38;5;28;01melse\u001b[39;00m:\n\u001b[1;32m    431\u001b[0m         \u001b[38;5;28;01mraise\u001b[39;00m \u001b[38;5;167;01mException\u001b[39;00m(\u001b[38;5;124m\"\u001b[39m\u001b[38;5;124mServer error \u001b[39m\u001b[38;5;132;01m{}\u001b[39;00m\u001b[38;5;124m\"\u001b[39m\u001b[38;5;241m.\u001b[39mformat(reply\u001b[38;5;241m.\u001b[39merr_code))\n",
      "\u001b[0;31mException\u001b[0m: Alias 'Nala_Dataset' does not exist\n(source: dbGet:138 code:1)\n"
     ]
    }
   ],
   "source": [
    "df_api.collectionItemsList(\"Nala_Dataset\")"
   ]
  },
  {
   "cell_type": "code",
   "execution_count": 42,
   "metadata": {},
   "outputs": [
    {
     "data": {
      "text/plain": [
       "True"
      ]
     },
     "execution_count": 42,
     "metadata": {},
     "output_type": "execute_result"
    }
   ],
   "source": [
    "\"4DSTEM_Dataset\" in ls_resp[0].item[0].title"
   ]
  },
  {
   "cell_type": "code",
   "execution_count": 49,
   "metadata": {},
   "outputs": [
    {
     "data": {
      "text/plain": [
       "'c/p_2024_transformer_vae_results_root'"
      ]
     },
     "execution_count": 49,
     "metadata": {},
     "output_type": "execute_result"
    }
   ],
   "source": []
  },
  {
   "cell_type": "code",
   "execution_count": 43,
   "metadata": {},
   "outputs": [
    {
     "name": "stdout",
     "output_type": "stream",
     "text": [
      "Y\n"
     ]
    }
   ],
   "source": [
    "if df_api.collectionItemsList(f\"c/p_{DataFed_project_test.lower()}_root\"):\n",
    "    print(\"Y\")\n",
    "else:\n",
    "    print(\"N\")\n"
   ]
  },
  {
   "cell_type": "code",
   "execution_count": 44,
   "metadata": {},
   "outputs": [
    {
     "ename": "Exception",
     "evalue": "Collection 'c/p_2024_transformer_vae_results' does not exist.\n(source: dbGet:138 code:1)\n",
     "output_type": "error",
     "traceback": [
      "\u001b[0;31m---------------------------------------------------------------------------\u001b[0m",
      "\u001b[0;31mException\u001b[0m                                 Traceback (most recent call last)",
      "Cell \u001b[0;32mIn[44], line 1\u001b[0m\n\u001b[0;32m----> 1\u001b[0m \u001b[38;5;28;01mif\u001b[39;00m \u001b[43mdf_api\u001b[49m\u001b[38;5;241;43m.\u001b[39;49m\u001b[43mcollectionItemsList\u001b[49m\u001b[43m(\u001b[49m\u001b[38;5;124;43mf\u001b[39;49m\u001b[38;5;124;43m\"\u001b[39;49m\u001b[38;5;124;43mc/p_\u001b[39;49m\u001b[38;5;132;43;01m{\u001b[39;49;00m\u001b[43mDataFed_project_test\u001b[49m\u001b[38;5;241;43m.\u001b[39;49m\u001b[43mlower\u001b[49m\u001b[43m(\u001b[49m\u001b[43m)\u001b[49m\u001b[38;5;132;43;01m}\u001b[39;49;00m\u001b[38;5;124;43m\"\u001b[39;49m\u001b[43m)\u001b[49m:\n\u001b[1;32m      2\u001b[0m     \u001b[38;5;28mprint\u001b[39m(\u001b[38;5;124m\"\u001b[39m\u001b[38;5;124mY\u001b[39m\u001b[38;5;124m\"\u001b[39m)\n\u001b[1;32m      3\u001b[0m \u001b[38;5;28;01melse\u001b[39;00m:\n",
      "File \u001b[0;32m~/anaconda3/envs/TransformerVAE6/lib/python3.10/site-packages/datafed/CommandLib.py:1242\u001b[0m, in \u001b[0;36mAPI.collectionItemsList\u001b[0;34m(self, coll_id, offset, count, context)\u001b[0m\n\u001b[1;32m   1239\u001b[0m msg\u001b[38;5;241m.\u001b[39moffset \u001b[38;5;241m=\u001b[39m offset\n\u001b[1;32m   1240\u001b[0m msg\u001b[38;5;241m.\u001b[39mid \u001b[38;5;241m=\u001b[39m \u001b[38;5;28mself\u001b[39m\u001b[38;5;241m.\u001b[39m_resolve_id(coll_id, context)\n\u001b[0;32m-> 1242\u001b[0m \u001b[38;5;28;01mreturn\u001b[39;00m \u001b[38;5;28;43mself\u001b[39;49m\u001b[38;5;241;43m.\u001b[39;49m\u001b[43m_mapi\u001b[49m\u001b[38;5;241;43m.\u001b[39;49m\u001b[43msendRecv\u001b[49m\u001b[43m(\u001b[49m\u001b[43mmsg\u001b[49m\u001b[43m)\u001b[49m\n",
      "File \u001b[0;32m~/anaconda3/envs/TransformerVAE6/lib/python3.10/site-packages/datafed/MessageLib.py:384\u001b[0m, in \u001b[0;36mAPI.sendRecv\u001b[0;34m(self, msg, timeout, nack_except)\u001b[0m\n\u001b[1;32m    382\u001b[0m \u001b[38;5;28mself\u001b[39m\u001b[38;5;241m.\u001b[39msend(msg)\n\u001b[1;32m    383\u001b[0m _timeout \u001b[38;5;241m=\u001b[39m timeout \u001b[38;5;28;01mif\u001b[39;00m timeout \u001b[38;5;129;01mis\u001b[39;00m \u001b[38;5;129;01mnot\u001b[39;00m \u001b[38;5;28;01mNone\u001b[39;00m \u001b[38;5;28;01melse\u001b[39;00m \u001b[38;5;28mself\u001b[39m\u001b[38;5;241m.\u001b[39m_timeout\n\u001b[0;32m--> 384\u001b[0m reply, mt, ctxt \u001b[38;5;241m=\u001b[39m \u001b[38;5;28;43mself\u001b[39;49m\u001b[38;5;241;43m.\u001b[39;49m\u001b[43mrecv\u001b[49m\u001b[43m(\u001b[49m\u001b[43m_timeout\u001b[49m\u001b[43m,\u001b[49m\u001b[43m \u001b[49m\u001b[43mnack_except\u001b[49m\u001b[43m)\u001b[49m\n\u001b[1;32m    385\u001b[0m \u001b[38;5;28;01mif\u001b[39;00m reply \u001b[38;5;129;01mis\u001b[39;00m \u001b[38;5;28;01mNone\u001b[39;00m:\n\u001b[1;32m    386\u001b[0m     \u001b[38;5;28;01mraise\u001b[39;00m \u001b[38;5;167;01mException\u001b[39;00m(\u001b[38;5;124m\"\u001b[39m\u001b[38;5;124mTimeout!!!!!!!!!\u001b[39m\u001b[38;5;124m\"\u001b[39m)\n",
      "File \u001b[0;32m~/anaconda3/envs/TransformerVAE6/lib/python3.10/site-packages/datafed/MessageLib.py:429\u001b[0m, in \u001b[0;36mAPI.recv\u001b[0;34m(self, timeout, nack_except)\u001b[0m\n\u001b[1;32m    427\u001b[0m \u001b[38;5;28;01mif\u001b[39;00m msg_type \u001b[38;5;241m==\u001b[39m \u001b[38;5;124m\"\u001b[39m\u001b[38;5;124mNackReply\u001b[39m\u001b[38;5;124m\"\u001b[39m \u001b[38;5;129;01mand\u001b[39;00m _nack_except:\n\u001b[1;32m    428\u001b[0m     \u001b[38;5;28;01mif\u001b[39;00m reply\u001b[38;5;241m.\u001b[39merr_msg:\n\u001b[0;32m--> 429\u001b[0m         \u001b[38;5;28;01mraise\u001b[39;00m \u001b[38;5;167;01mException\u001b[39;00m(reply\u001b[38;5;241m.\u001b[39merr_msg)\n\u001b[1;32m    430\u001b[0m     \u001b[38;5;28;01melse\u001b[39;00m:\n\u001b[1;32m    431\u001b[0m         \u001b[38;5;28;01mraise\u001b[39;00m \u001b[38;5;167;01mException\u001b[39;00m(\u001b[38;5;124m\"\u001b[39m\u001b[38;5;124mServer error \u001b[39m\u001b[38;5;132;01m{}\u001b[39;00m\u001b[38;5;124m\"\u001b[39m\u001b[38;5;241m.\u001b[39mformat(reply\u001b[38;5;241m.\u001b[39merr_code))\n",
      "\u001b[0;31mException\u001b[0m: Collection 'c/p_2024_transformer_vae_results' does not exist.\n(source: dbGet:138 code:1)\n"
     ]
    }
   ],
   "source": [
    "if df_api.collectionItemsList(f\"c/p_{DataFed_project_test.lower()}\"):\n",
    "    print(\"Y\")\n",
    "else:\n",
    "    print(\"N\")"
   ]
  },
  {
   "cell_type": "code",
   "execution_count": null,
   "metadata": {},
   "outputs": [],
   "source": []
  }
 ],
 "metadata": {
  "kernelspec": {
   "display_name": "Python 3",
   "language": "python",
   "name": "python3"
  },
  "language_info": {
   "codemirror_mode": {
    "name": "ipython",
    "version": 3
   },
   "file_extension": ".py",
   "mimetype": "text/x-python",
   "name": "python",
   "nbconvert_exporter": "python",
   "pygments_lexer": "ipython3",
   "version": "3.10.12"
  }
 },
 "nbformat": 4,
 "nbformat_minor": 2
}
