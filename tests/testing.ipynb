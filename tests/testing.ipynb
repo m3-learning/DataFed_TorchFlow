{
 "cells": [
  {
   "cell_type": "code",
   "execution_count": 2,
   "metadata": {},
   "outputs": [],
   "source": [
    "from datafed_torchflow.computer import get_system_info"
   ]
  },
  {
   "cell_type": "code",
   "execution_count": 3,
   "metadata": {},
   "outputs": [
    {
     "data": {
      "text/plain": [
       "{'cpu': {'physical_cores': 24,\n",
       "  'total_cores': 48,\n",
       "  'cpu_frequency': {'current': 2300.8753333333334,\n",
       "   'min': 2200.0,\n",
       "   'max': 3800.0},\n",
       "  'cpu_usage_per_core': [0.2,\n",
       "   0.6,\n",
       "   0.9,\n",
       "   1.3,\n",
       "   1.0,\n",
       "   0.2,\n",
       "   1.3,\n",
       "   0.6,\n",
       "   0.6,\n",
       "   0.3,\n",
       "   0.6,\n",
       "   0.6,\n",
       "   1.2,\n",
       "   1.1,\n",
       "   0.7,\n",
       "   0.9,\n",
       "   0.4,\n",
       "   0.7,\n",
       "   0.8,\n",
       "   0.2,\n",
       "   1.0,\n",
       "   1.2,\n",
       "   0.5,\n",
       "   0.3,\n",
       "   0.3,\n",
       "   0.0,\n",
       "   0.0,\n",
       "   0.1,\n",
       "   0.1,\n",
       "   0.0,\n",
       "   0.3,\n",
       "   0.2,\n",
       "   0.2,\n",
       "   0.5,\n",
       "   0.2,\n",
       "   0.5,\n",
       "   0.2,\n",
       "   0.0,\n",
       "   0.1,\n",
       "   0.1,\n",
       "   0.5,\n",
       "   0.2,\n",
       "   0.5,\n",
       "   0.5,\n",
       "   0.3,\n",
       "   0.1,\n",
       "   0.2,\n",
       "   0.4],\n",
       "  'total_cpu_usage': 0.5},\n",
       " 'memory': {'total': '125.63 GB',\n",
       "  'available': '81.22 GB',\n",
       "  'used': '43.20 GB',\n",
       "  'percent': 35.3},\n",
       " 'gpu': [{'id': 0,\n",
       "   'name': 'NVIDIA GeForce RTX 3090',\n",
       "   'driver_version': '550.90.07',\n",
       "   'memory_total': '24576.00 MB',\n",
       "   'memory_used': '2.00 MB',\n",
       "   'memory_free': '24244.00 MB',\n",
       "   'load': '0.00%',\n",
       "   'temperature': '49.0 °C'},\n",
       "  {'id': 1,\n",
       "   'name': 'NVIDIA GeForce RTX 3090',\n",
       "   'driver_version': '550.90.07',\n",
       "   'memory_total': '24576.00 MB',\n",
       "   'memory_used': '24239.00 MB',\n",
       "   'memory_free': '14.00 MB',\n",
       "   'load': '0.00%',\n",
       "   'temperature': '37.0 °C'}],\n",
       " 'python': {'python_version': '3.11.9',\n",
       "  'python_implementation': 'CPython',\n",
       "  'python_build': ('main', 'Apr 19 2024 16:48:06'),\n",
       "  'packages': {'zipp': '3.20.1',\n",
       "   'zict': '3.0.0',\n",
       "   'xlrd': '2.0.1',\n",
       "   'wrapt': '1.16.0',\n",
       "   'widgetsnbextension': '4.0.13',\n",
       "   'wheel': '0.43.0',\n",
       "   'wget': '3.2',\n",
       "   'werkzeug': '3.0.4',\n",
       "   'wcwidth': '0.2.13',\n",
       "   'virtualenv': '20.26.4',\n",
       "   'urllib3': '2.2.2',\n",
       "   'uritemplate': '4.1.1',\n",
       "   'tzdata': '2024.1',\n",
       "   'typing-extensions': '4.12.2',\n",
       "   'triton': '3.0.0',\n",
       "   'traits': '6.4.3',\n",
       "   'traitlets': '5.14.3',\n",
       "   'tqdm': '4.66.5',\n",
       "   'tox': '4.18.1',\n",
       "   'tornado': '6.4.1',\n",
       "   'torch': '2.4.1',\n",
       "   'torch-optimizer': '0.3.0',\n",
       "   'toolz': '0.12.1',\n",
       "   'tifffile': '2024.8.30',\n",
       "   'threadpoolctl': '3.5.0',\n",
       "   'termcolor': '2.4.0',\n",
       "   'tensorly': '0.8.1',\n",
       "   'tensorflow': '2.17.0',\n",
       "   'tensorflow-io-gcs-filesystem': '0.37.1',\n",
       "   'tensorboard': '2.17.1',\n",
       "   'tensorboard-data-server': '0.7.2',\n",
       "   'tenacity': '9.0.0',\n",
       "   'tblib': '3.0.0',\n",
       "   'sympy': '1.13.2',\n",
       "   'stack-data': '0.6.3',\n",
       "   'sqlparse': '0.5.1',\n",
       "   'spglib': '2.5.0',\n",
       "   'sortedcontainers': '2.4.0',\n",
       "   'six': '1.16.0',\n",
       "   'simpleitk': '2.4.0',\n",
       "   'sidpy': '0.12.3',\n",
       "   'setuptools': '58.2.0',\n",
       "   'seaborn': '0.13.2',\n",
       "   'scipy': '1.10.1',\n",
       "   'scikit-learn': '1.5.1',\n",
       "   'scikit-image': '0.24.0',\n",
       "   'scifireaders': '0.11.5',\n",
       "   'rosettasciio': '0.6',\n",
       "   'rich': '13.8.0',\n",
       "   'requests': '2.32.3',\n",
       "   'pyzmq': '26.2.0',\n",
       "   'pyyaml': '6.0.2',\n",
       "   'pywget': '0.31',\n",
       "   'pyusid': '0.0.12',\n",
       "   'pytz': '2024.1',\n",
       "   'pytorch-ranger': '0.1.1',\n",
       "   'python-dateutil': '2.9.0.post0',\n",
       "   'python-box': '7.2.0',\n",
       "   'pytest': '8.3.2',\n",
       "   'pytest-ordering': '0.6',\n",
       "   'pytemlib': '0.2024.9.0',\n",
       "   'pysptools': '0.15.0',\n",
       "   'pyproject-api': '1.7.1',\n",
       "   'pyparsing': '3.1.4',\n",
       "   'pynsid': '0.0.7.2',\n",
       "   'pygments': '2.18.0',\n",
       "   'pycroscopy': '0.63.3',\n",
       "   'py-cpuinfo': '9.0.0',\n",
       "   'pure-eval': '0.2.3',\n",
       "   'ptyprocess': '0.7.0',\n",
       "   'psutil': '6.0.0',\n",
       "   'protobuf': '4.25.4',\n",
       "   'prompt-toolkit': '3.0.47',\n",
       "   'prettytable': '3.11.0',\n",
       "   'pooch': '1.8.2',\n",
       "   'pluggy': '1.5.0',\n",
       "   'plotly': '5.24.0',\n",
       "   'platformdirs': '4.3.2',\n",
       "   'pip': '24.2',\n",
       "   'pint': '0.24.3',\n",
       "   'pillow': '10.4.0',\n",
       "   'pexpect': '4.9.0',\n",
       "   'pathspec': '0.12.1',\n",
       "   'partd': '1.4.2',\n",
       "   'parso': '0.8.4',\n",
       "   'pandas': '2.2.2',\n",
       "   'packaging': '24.1',\n",
       "   'optree': '0.12.1',\n",
       "   'opt-einsum': '3.3.0',\n",
       "   'opencv-python': '4.10.0.84',\n",
       "   'nvidia-nvtx-cu12': '12.1.105',\n",
       "   'nvidia-nvjitlink-cu12': '12.6.68',\n",
       "   'nvidia-nccl-cu12': '2.20.5',\n",
       "   'nvidia-cusparse-cu12': '12.1.0.106',\n",
       "   'nvidia-cusolver-cu12': '11.4.5.107',\n",
       "   'nvidia-curand-cu12': '10.3.2.106',\n",
       "   'nvidia-cufft-cu12': '11.0.2.54',\n",
       "   'nvidia-cudnn-cu12': '9.1.0.70',\n",
       "   'nvidia-cuda-runtime-cu12': '12.1.105',\n",
       "   'nvidia-cuda-nvrtc-cu12': '12.1.105',\n",
       "   'nvidia-cuda-cupti-cu12': '12.1.105',\n",
       "   'nvidia-cublas-cu12': '12.1.3.1',\n",
       "   'numpy': '1.26.4',\n",
       "   'numpy-groupies': '0.9.7',\n",
       "   'numba': '0.60.0',\n",
       "   'networkx': '3.3',\n",
       "   'nest-asyncio': '1.6.0',\n",
       "   'natsort': '8.4.0',\n",
       "   'namex': '0.0.8',\n",
       "   'mypy-extensions': '1.0.0',\n",
       "   'msgpack': '1.0.8',\n",
       "   'mpmath': '1.3.0',\n",
       "   'ml-dtypes': '0.4.0',\n",
       "   'mdurl': '0.1.2',\n",
       "   'matplotlib': '3.9.2',\n",
       "   'matplotlib-inline': '0.1.7',\n",
       "   'markupsafe': '2.1.5',\n",
       "   'markdown': '3.7',\n",
       "   'markdown-it-py': '3.0.0',\n",
       "   'm3learning-util': '0.2.18',\n",
       "   'lxml': '5.3.0',\n",
       "   'locket': '1.0.0',\n",
       "   'llvmlite': '0.43.0',\n",
       "   'libclang': '18.1.1',\n",
       "   'lazy-loader': '0.4',\n",
       "   'kiwisolver': '1.4.7',\n",
       "   'keras': '3.5.0',\n",
       "   'jupyterlab-widgets': '3.0.13',\n",
       "   'jupyter-core': '5.7.2',\n",
       "   'jupyter-client': '8.6.2',\n",
       "   'joblib': '1.4.2',\n",
       "   'jinja2': '3.1.4',\n",
       "   'jedi': '0.19.1',\n",
       "   'ipywidgets': '8.1.5',\n",
       "   'ipython': '8.27.0',\n",
       "   'ipython-genutils': '0.2.0',\n",
       "   'ipympl': '0.9.4',\n",
       "   'ipykernel': '6.29.5',\n",
       "   'iniconfig': '2.0.0',\n",
       "   'inflection': '0.5.1',\n",
       "   'importlib-metadata': '8.4.0',\n",
       "   'imageio': '2.35.1',\n",
       "   'idna': '3.8',\n",
       "   'hyperspy': '2.1.1',\n",
       "   'h5py': '3.11.0',\n",
       "   'grpcio': '1.66.1',\n",
       "   'gputil': '1.4.0',\n",
       "   'google-pasta': '0.2.0',\n",
       "   'gast': '0.6.0',\n",
       "   'fsspec': '2024.9.0',\n",
       "   'fonttools': '4.53.1',\n",
       "   'flexparser': '0.3.1',\n",
       "   'flexcache': '0.3',\n",
       "   'flatbuffers': '24.3.25',\n",
       "   'filelock': '3.16.0',\n",
       "   'executing': '2.1.0',\n",
       "   'drf-yasg': '1.21.7',\n",
       "   'djangorestframework': '3.15.1',\n",
       "   'django': '3.2.16',\n",
       "   'django-cors-headers': '4.3.1',\n",
       "   'distributed': '2024.8.2',\n",
       "   'distlib': '0.3.8',\n",
       "   'decorator': '5.1.1',\n",
       "   'debugpy': '1.8.5',\n",
       "   'datafed': '3.0.0',\n",
       "   'datafed-torchflow': '0.0.post1.dev6+ge230e48.d20240912',\n",
       "   'dask': '2024.8.2',\n",
       "   'cytoolz': '0.12.3',\n",
       "   'cycler': '0.12.1',\n",
       "   'cvxopt': '1.3.2',\n",
       "   'cpu-info': '0.1.1',\n",
       "   'contourpy': '1.3.0',\n",
       "   'comm': '0.2.2',\n",
       "   'colorama': '0.4.6',\n",
       "   'cloudpickle': '3.0.0',\n",
       "   'click': '8.1.7',\n",
       "   'charset-normalizer': '3.3.2',\n",
       "   'chardet': '5.2.0',\n",
       "   'certifi': '2024.8.30',\n",
       "   'cachetools': '5.5.0',\n",
       "   'black': '24.8.0',\n",
       "   'bglib': '0.0.5',\n",
       "   'bepiezo-learn': '0.0.post1.dev36+g84e9c7c.d20240908',\n",
       "   'autophyslearn': '0.2.4.post1.dev0+g591ecc0.d20240909',\n",
       "   'astunparse': '1.6.3',\n",
       "   'asttokens': '2.4.1',\n",
       "   'asgiref': '3.8.1',\n",
       "   'ase': '3.23.0',\n",
       "   'appdirs': '1.4.4',\n",
       "   'absl-py': '2.1.0'}}}"
      ]
     },
     "execution_count": 3,
     "metadata": {},
     "output_type": "execute_result"
    }
   ],
   "source": [
    "get_system_info()"
   ]
  },
  {
   "cell_type": "code",
   "execution_count": null,
   "metadata": {},
   "outputs": [],
   "source": []
  },
  {
   "cell_type": "code",
   "execution_count": 4,
   "metadata": {},
   "outputs": [
    {
     "name": "stdout",
     "output_type": "stream",
     "text": [
      "Python version: 3.11.9 (main, Apr 19 2024, 16:48:06) [GCC 11.2.0]\n",
      "Python executable: /home/ferroelectric/anaconda3/envs/m3/bin/python\n"
     ]
    }
   ],
   "source": [
    "import sys\n",
    "print(\"Python version:\", sys.version)\n",
    "print(\"Python executable:\", sys.executable)\n"
   ]
  },
  {
   "cell_type": "code",
   "execution_count": 1,
   "metadata": {},
   "outputs": [],
   "source": [
    "import numpy as np\n",
    "from datafed.CommandLib import API"
   ]
  },
  {
   "cell_type": "code",
   "execution_count": 2,
   "metadata": {},
   "outputs": [],
   "source": [
    "df_api = API()\n"
   ]
  },
  {
   "cell_type": "code",
   "execution_count": 4,
   "metadata": {},
   "outputs": [],
   "source": [
    "df_api.setContext('p/2024_test_pytorch')"
   ]
  },
  {
   "cell_type": "code",
   "execution_count": null,
   "metadata": {},
   "outputs": [],
   "source": [
    "df_api."
   ]
  },
  {
   "cell_type": "code",
   "execution_count": 3,
   "metadata": {},
   "outputs": [],
   "source": [
    "record_path = df_api.collectionGetParents(\"d/525617439\")"
   ]
  },
  {
   "cell_type": "code",
   "execution_count": 4,
   "metadata": {},
   "outputs": [
    {
     "data": {
      "text/plain": [
       "(path {\n",
       "   item {\n",
       "     id: \"c/525610513\"\n",
       "     title: \"model_080824\"\n",
       "   }\n",
       "   item {\n",
       "     id: \"c/525610492\"\n",
       "     title: \"Piezoresponse_Dataset\"\n",
       "   }\n",
       "   item {\n",
       "     id: \"c/p_2024_transformer_vae_results_root\"\n",
       "     title: \"Root Collection\"\n",
       "     alias: \"root\"\n",
       "   }\n",
       " },\n",
       " 'CollPathReply')"
      ]
     },
     "execution_count": 4,
     "metadata": {},
     "output_type": "execute_result"
    }
   ],
   "source": [
    "record_path"
   ]
  },
  {
   "cell_type": "code",
   "execution_count": 5,
   "metadata": {},
   "outputs": [
    {
     "name": "stdout",
     "output_type": "stream",
     "text": [
      "c/525610513\n",
      "c/525610492\n",
      "c/p_2024_transformer_vae_results_root\n"
     ]
    }
   ],
   "source": [
    "for i in range(len(record_path[0].path[0].item)):\n",
    "    print(record_path[0].path[0].item[i].id)"
   ]
  },
  {
   "cell_type": "code",
   "execution_count": 30,
   "metadata": {},
   "outputs": [
    {
     "data": {
      "text/plain": [
       "(path {\n",
       "   item {\n",
       "     id: \"c/525610492\"\n",
       "     title: \"Piezoresponse_Dataset\"\n",
       "   }\n",
       "   item {\n",
       "     id: \"c/p_2024_transformer_vae_results_root\"\n",
       "     title: \"Root Collection\"\n",
       "     alias: \"root\"\n",
       "   }\n",
       " },\n",
       " 'CollPathReply')"
      ]
     },
     "execution_count": 30,
     "metadata": {},
     "output_type": "execute_result"
    }
   ],
   "source": [
    "df_api.collectionGetParents(\"c/525610513\")"
   ]
  },
  {
   "cell_type": "code",
   "execution_count": 6,
   "metadata": {},
   "outputs": [
    {
     "name": "stdout",
     "output_type": "stream",
     "text": [
      "c/p_2024_transformer_vae_results_root\n"
     ]
    }
   ],
   "source": [
    "DataFed_project_test = \"2024_Transformer_VAE_Results\"\n",
    "print(f\"c/p_{DataFed_project_test.lower()}_root\") # project IDs have this format \n",
    "ls_resp = df_api.collectionItemsList(f\"c/p_{DataFed_project_test.lower()}_root\")\n"
   ]
  },
  {
   "cell_type": "code",
   "execution_count": 7,
   "metadata": {},
   "outputs": [
    {
     "data": {
      "text/plain": [
       "(item {\n",
       "   id: \"c/525610490\"\n",
       "   title: \"4DSTEM_Dataset\"\n",
       "   owner: \"p/2024_transformer_vae_results\"\n",
       "   creator: \"u/jg3837\"\n",
       "   notes: 0\n",
       " }\n",
       " item {\n",
       "   id: \"c/525610491\"\n",
       "   title: \"Nala_Dataset\"\n",
       "   alias: \"nala_dataset\"\n",
       "   owner: \"p/2024_transformer_vae_results\"\n",
       "   creator: \"u/jg3837\"\n",
       "   notes: 0\n",
       " }\n",
       " item {\n",
       "   id: \"c/525610492\"\n",
       "   title: \"Piezoresponse_Dataset\"\n",
       "   owner: \"p/2024_transformer_vae_results\"\n",
       "   creator: \"u/jg3837\"\n",
       "   notes: 0\n",
       " }\n",
       " offset: 0\n",
       " count: 20\n",
       " total: 3,\n",
       " 'ListingReply')"
      ]
     },
     "execution_count": 7,
     "metadata": {},
     "output_type": "execute_result"
    }
   ],
   "source": [
    "ls_resp"
   ]
  },
  {
   "cell_type": "code",
   "execution_count": 18,
   "metadata": {},
   "outputs": [
    {
     "ename": "Exception",
     "evalue": "Invalid ID\n(source: dbGet:138 code:1)\n",
     "output_type": "error",
     "traceback": [
      "\u001b[0;31m---------------------------------------------------------------------------\u001b[0m",
      "\u001b[0;31mException\u001b[0m                                 Traceback (most recent call last)",
      "Cell \u001b[0;32mIn[18], line 1\u001b[0m\n\u001b[0;32m----> 1\u001b[0m \u001b[43mdf_api\u001b[49m\u001b[38;5;241;43m.\u001b[39;49m\u001b[43mcollectionItemsList\u001b[49m\u001b[43m(\u001b[49m\u001b[38;5;124;43m\"\u001b[39;49m\u001b[38;5;124;43mc/p_2024_transformer_vae_results_root/4dstem_dataset\u001b[39;49m\u001b[38;5;124;43m\"\u001b[39;49m\u001b[43m)\u001b[49m\n",
      "File \u001b[0;32m~/anaconda3/envs/TransformerVAE6/lib/python3.10/site-packages/datafed/CommandLib.py:1242\u001b[0m, in \u001b[0;36mAPI.collectionItemsList\u001b[0;34m(self, coll_id, offset, count, context)\u001b[0m\n\u001b[1;32m   1239\u001b[0m msg\u001b[38;5;241m.\u001b[39moffset \u001b[38;5;241m=\u001b[39m offset\n\u001b[1;32m   1240\u001b[0m msg\u001b[38;5;241m.\u001b[39mid \u001b[38;5;241m=\u001b[39m \u001b[38;5;28mself\u001b[39m\u001b[38;5;241m.\u001b[39m_resolve_id(coll_id, context)\n\u001b[0;32m-> 1242\u001b[0m \u001b[38;5;28;01mreturn\u001b[39;00m \u001b[38;5;28;43mself\u001b[39;49m\u001b[38;5;241;43m.\u001b[39;49m\u001b[43m_mapi\u001b[49m\u001b[38;5;241;43m.\u001b[39;49m\u001b[43msendRecv\u001b[49m\u001b[43m(\u001b[49m\u001b[43mmsg\u001b[49m\u001b[43m)\u001b[49m\n",
      "File \u001b[0;32m~/anaconda3/envs/TransformerVAE6/lib/python3.10/site-packages/datafed/MessageLib.py:384\u001b[0m, in \u001b[0;36mAPI.sendRecv\u001b[0;34m(self, msg, timeout, nack_except)\u001b[0m\n\u001b[1;32m    382\u001b[0m \u001b[38;5;28mself\u001b[39m\u001b[38;5;241m.\u001b[39msend(msg)\n\u001b[1;32m    383\u001b[0m _timeout \u001b[38;5;241m=\u001b[39m timeout \u001b[38;5;28;01mif\u001b[39;00m timeout \u001b[38;5;129;01mis\u001b[39;00m \u001b[38;5;129;01mnot\u001b[39;00m \u001b[38;5;28;01mNone\u001b[39;00m \u001b[38;5;28;01melse\u001b[39;00m \u001b[38;5;28mself\u001b[39m\u001b[38;5;241m.\u001b[39m_timeout\n\u001b[0;32m--> 384\u001b[0m reply, mt, ctxt \u001b[38;5;241m=\u001b[39m \u001b[38;5;28;43mself\u001b[39;49m\u001b[38;5;241;43m.\u001b[39;49m\u001b[43mrecv\u001b[49m\u001b[43m(\u001b[49m\u001b[43m_timeout\u001b[49m\u001b[43m,\u001b[49m\u001b[43m \u001b[49m\u001b[43mnack_except\u001b[49m\u001b[43m)\u001b[49m\n\u001b[1;32m    385\u001b[0m \u001b[38;5;28;01mif\u001b[39;00m reply \u001b[38;5;129;01mis\u001b[39;00m \u001b[38;5;28;01mNone\u001b[39;00m:\n\u001b[1;32m    386\u001b[0m     \u001b[38;5;28;01mraise\u001b[39;00m \u001b[38;5;167;01mException\u001b[39;00m(\u001b[38;5;124m\"\u001b[39m\u001b[38;5;124mTimeout!!!!!!!!!\u001b[39m\u001b[38;5;124m\"\u001b[39m)\n",
      "File \u001b[0;32m~/anaconda3/envs/TransformerVAE6/lib/python3.10/site-packages/datafed/MessageLib.py:429\u001b[0m, in \u001b[0;36mAPI.recv\u001b[0;34m(self, timeout, nack_except)\u001b[0m\n\u001b[1;32m    427\u001b[0m \u001b[38;5;28;01mif\u001b[39;00m msg_type \u001b[38;5;241m==\u001b[39m \u001b[38;5;124m\"\u001b[39m\u001b[38;5;124mNackReply\u001b[39m\u001b[38;5;124m\"\u001b[39m \u001b[38;5;129;01mand\u001b[39;00m _nack_except:\n\u001b[1;32m    428\u001b[0m     \u001b[38;5;28;01mif\u001b[39;00m reply\u001b[38;5;241m.\u001b[39merr_msg:\n\u001b[0;32m--> 429\u001b[0m         \u001b[38;5;28;01mraise\u001b[39;00m \u001b[38;5;167;01mException\u001b[39;00m(reply\u001b[38;5;241m.\u001b[39merr_msg)\n\u001b[1;32m    430\u001b[0m     \u001b[38;5;28;01melse\u001b[39;00m:\n\u001b[1;32m    431\u001b[0m         \u001b[38;5;28;01mraise\u001b[39;00m \u001b[38;5;167;01mException\u001b[39;00m(\u001b[38;5;124m\"\u001b[39m\u001b[38;5;124mServer error \u001b[39m\u001b[38;5;132;01m{}\u001b[39;00m\u001b[38;5;124m\"\u001b[39m\u001b[38;5;241m.\u001b[39mformat(reply\u001b[38;5;241m.\u001b[39merr_code))\n",
      "\u001b[0;31mException\u001b[0m: Invalid ID\n(source: dbGet:138 code:1)\n"
     ]
    }
   ],
   "source": [
    "df_api.collectionItemsList(\"c/p_2024_transformer_vae_results_root/4dstem_dataset\")"
   ]
  },
  {
   "cell_type": "code",
   "execution_count": 21,
   "metadata": {},
   "outputs": [
    {
     "ename": "Exception",
     "evalue": "Invalid collection ID 'p:2024_transformer_vae_results:4dstem_dataset/save_model2_081424'\n(source: dbGet:138 code:1)\n",
     "output_type": "error",
     "traceback": [
      "\u001b[0;31m---------------------------------------------------------------------------\u001b[0m",
      "\u001b[0;31mException\u001b[0m                                 Traceback (most recent call last)",
      "Cell \u001b[0;32mIn[21], line 2\u001b[0m\n\u001b[1;32m      1\u001b[0m df_api\u001b[38;5;241m.\u001b[39msetContext(\u001b[38;5;124m'\u001b[39m\u001b[38;5;124mp/2024_transformer_vae_results\u001b[39m\u001b[38;5;124m'\u001b[39m)\n\u001b[0;32m----> 2\u001b[0m \u001b[43mdf_api\u001b[49m\u001b[38;5;241;43m.\u001b[39;49m\u001b[43mcollectionItemsList\u001b[49m\u001b[43m(\u001b[49m\u001b[38;5;124;43m\"\u001b[39;49m\u001b[38;5;124;43m4dstem_dataset/save_model2_081424\u001b[39;49m\u001b[38;5;124;43m\"\u001b[39;49m\u001b[43m)\u001b[49m\n",
      "File \u001b[0;32m~/anaconda3/envs/TransformerVAE6/lib/python3.10/site-packages/datafed/CommandLib.py:1242\u001b[0m, in \u001b[0;36mAPI.collectionItemsList\u001b[0;34m(self, coll_id, offset, count, context)\u001b[0m\n\u001b[1;32m   1239\u001b[0m msg\u001b[38;5;241m.\u001b[39moffset \u001b[38;5;241m=\u001b[39m offset\n\u001b[1;32m   1240\u001b[0m msg\u001b[38;5;241m.\u001b[39mid \u001b[38;5;241m=\u001b[39m \u001b[38;5;28mself\u001b[39m\u001b[38;5;241m.\u001b[39m_resolve_id(coll_id, context)\n\u001b[0;32m-> 1242\u001b[0m \u001b[38;5;28;01mreturn\u001b[39;00m \u001b[38;5;28;43mself\u001b[39;49m\u001b[38;5;241;43m.\u001b[39;49m\u001b[43m_mapi\u001b[49m\u001b[38;5;241;43m.\u001b[39;49m\u001b[43msendRecv\u001b[49m\u001b[43m(\u001b[49m\u001b[43mmsg\u001b[49m\u001b[43m)\u001b[49m\n",
      "File \u001b[0;32m~/anaconda3/envs/TransformerVAE6/lib/python3.10/site-packages/datafed/MessageLib.py:384\u001b[0m, in \u001b[0;36mAPI.sendRecv\u001b[0;34m(self, msg, timeout, nack_except)\u001b[0m\n\u001b[1;32m    382\u001b[0m \u001b[38;5;28mself\u001b[39m\u001b[38;5;241m.\u001b[39msend(msg)\n\u001b[1;32m    383\u001b[0m _timeout \u001b[38;5;241m=\u001b[39m timeout \u001b[38;5;28;01mif\u001b[39;00m timeout \u001b[38;5;129;01mis\u001b[39;00m \u001b[38;5;129;01mnot\u001b[39;00m \u001b[38;5;28;01mNone\u001b[39;00m \u001b[38;5;28;01melse\u001b[39;00m \u001b[38;5;28mself\u001b[39m\u001b[38;5;241m.\u001b[39m_timeout\n\u001b[0;32m--> 384\u001b[0m reply, mt, ctxt \u001b[38;5;241m=\u001b[39m \u001b[38;5;28;43mself\u001b[39;49m\u001b[38;5;241;43m.\u001b[39;49m\u001b[43mrecv\u001b[49m\u001b[43m(\u001b[49m\u001b[43m_timeout\u001b[49m\u001b[43m,\u001b[49m\u001b[43m \u001b[49m\u001b[43mnack_except\u001b[49m\u001b[43m)\u001b[49m\n\u001b[1;32m    385\u001b[0m \u001b[38;5;28;01mif\u001b[39;00m reply \u001b[38;5;129;01mis\u001b[39;00m \u001b[38;5;28;01mNone\u001b[39;00m:\n\u001b[1;32m    386\u001b[0m     \u001b[38;5;28;01mraise\u001b[39;00m \u001b[38;5;167;01mException\u001b[39;00m(\u001b[38;5;124m\"\u001b[39m\u001b[38;5;124mTimeout!!!!!!!!!\u001b[39m\u001b[38;5;124m\"\u001b[39m)\n",
      "File \u001b[0;32m~/anaconda3/envs/TransformerVAE6/lib/python3.10/site-packages/datafed/MessageLib.py:429\u001b[0m, in \u001b[0;36mAPI.recv\u001b[0;34m(self, timeout, nack_except)\u001b[0m\n\u001b[1;32m    427\u001b[0m \u001b[38;5;28;01mif\u001b[39;00m msg_type \u001b[38;5;241m==\u001b[39m \u001b[38;5;124m\"\u001b[39m\u001b[38;5;124mNackReply\u001b[39m\u001b[38;5;124m\"\u001b[39m \u001b[38;5;129;01mand\u001b[39;00m _nack_except:\n\u001b[1;32m    428\u001b[0m     \u001b[38;5;28;01mif\u001b[39;00m reply\u001b[38;5;241m.\u001b[39merr_msg:\n\u001b[0;32m--> 429\u001b[0m         \u001b[38;5;28;01mraise\u001b[39;00m \u001b[38;5;167;01mException\u001b[39;00m(reply\u001b[38;5;241m.\u001b[39merr_msg)\n\u001b[1;32m    430\u001b[0m     \u001b[38;5;28;01melse\u001b[39;00m:\n\u001b[1;32m    431\u001b[0m         \u001b[38;5;28;01mraise\u001b[39;00m \u001b[38;5;167;01mException\u001b[39;00m(\u001b[38;5;124m\"\u001b[39m\u001b[38;5;124mServer error \u001b[39m\u001b[38;5;132;01m{}\u001b[39;00m\u001b[38;5;124m\"\u001b[39m\u001b[38;5;241m.\u001b[39mformat(reply\u001b[38;5;241m.\u001b[39merr_code))\n",
      "\u001b[0;31mException\u001b[0m: Invalid collection ID 'p:2024_transformer_vae_results:4dstem_dataset/save_model2_081424'\n(source: dbGet:138 code:1)\n"
     ]
    }
   ],
   "source": [
    "df_api.setContext('p/2024_transformer_vae_results')\n",
    "df_api.collectionItemsList(\"4dstem_dataset/save_model2_081424\")"
   ]
  },
  {
   "cell_type": "code",
   "execution_count": 22,
   "metadata": {},
   "outputs": [
    {
     "ename": "Exception",
     "evalue": "Invalid data record ID 'c/p_2024_transformer_vae_results_root/4dstem_dataset/save_model2_081424/epoch_100'\n(source: dbGet:138 code:1)\n",
     "output_type": "error",
     "traceback": [
      "\u001b[0;31m---------------------------------------------------------------------------\u001b[0m",
      "\u001b[0;31mException\u001b[0m                                 Traceback (most recent call last)",
      "Cell \u001b[0;32mIn[22], line 1\u001b[0m\n\u001b[0;32m----> 1\u001b[0m \u001b[43mdf_api\u001b[49m\u001b[38;5;241;43m.\u001b[39;49m\u001b[43mdataView\u001b[49m\u001b[43m(\u001b[49m\u001b[38;5;124;43m\"\u001b[39;49m\u001b[38;5;124;43mc/p_2024_transformer_vae_results_root/4dstem_dataset/save_model2_081424/epoch_100\u001b[39;49m\u001b[38;5;124;43m\"\u001b[39;49m\u001b[43m)\u001b[49m\n",
      "File \u001b[0;32m~/anaconda3/envs/TransformerVAE6/lib/python3.10/site-packages/datafed/CommandLib.py:348\u001b[0m, in \u001b[0;36mAPI.dataView\u001b[0;34m(self, data_id, details, context)\u001b[0m\n\u001b[1;32m    345\u001b[0m msg\u001b[38;5;241m.\u001b[39mid \u001b[38;5;241m=\u001b[39m \u001b[38;5;28mself\u001b[39m\u001b[38;5;241m.\u001b[39m_resolve_id(data_id, context)\n\u001b[1;32m    346\u001b[0m msg\u001b[38;5;241m.\u001b[39mdetails \u001b[38;5;241m=\u001b[39m details\n\u001b[0;32m--> 348\u001b[0m \u001b[38;5;28;01mreturn\u001b[39;00m \u001b[38;5;28;43mself\u001b[39;49m\u001b[38;5;241;43m.\u001b[39;49m\u001b[43m_mapi\u001b[49m\u001b[38;5;241;43m.\u001b[39;49m\u001b[43msendRecv\u001b[49m\u001b[43m(\u001b[49m\u001b[43mmsg\u001b[49m\u001b[43m)\u001b[49m\n",
      "File \u001b[0;32m~/anaconda3/envs/TransformerVAE6/lib/python3.10/site-packages/datafed/MessageLib.py:384\u001b[0m, in \u001b[0;36mAPI.sendRecv\u001b[0;34m(self, msg, timeout, nack_except)\u001b[0m\n\u001b[1;32m    382\u001b[0m \u001b[38;5;28mself\u001b[39m\u001b[38;5;241m.\u001b[39msend(msg)\n\u001b[1;32m    383\u001b[0m _timeout \u001b[38;5;241m=\u001b[39m timeout \u001b[38;5;28;01mif\u001b[39;00m timeout \u001b[38;5;129;01mis\u001b[39;00m \u001b[38;5;129;01mnot\u001b[39;00m \u001b[38;5;28;01mNone\u001b[39;00m \u001b[38;5;28;01melse\u001b[39;00m \u001b[38;5;28mself\u001b[39m\u001b[38;5;241m.\u001b[39m_timeout\n\u001b[0;32m--> 384\u001b[0m reply, mt, ctxt \u001b[38;5;241m=\u001b[39m \u001b[38;5;28;43mself\u001b[39;49m\u001b[38;5;241;43m.\u001b[39;49m\u001b[43mrecv\u001b[49m\u001b[43m(\u001b[49m\u001b[43m_timeout\u001b[49m\u001b[43m,\u001b[49m\u001b[43m \u001b[49m\u001b[43mnack_except\u001b[49m\u001b[43m)\u001b[49m\n\u001b[1;32m    385\u001b[0m \u001b[38;5;28;01mif\u001b[39;00m reply \u001b[38;5;129;01mis\u001b[39;00m \u001b[38;5;28;01mNone\u001b[39;00m:\n\u001b[1;32m    386\u001b[0m     \u001b[38;5;28;01mraise\u001b[39;00m \u001b[38;5;167;01mException\u001b[39;00m(\u001b[38;5;124m\"\u001b[39m\u001b[38;5;124mTimeout!!!!!!!!!\u001b[39m\u001b[38;5;124m\"\u001b[39m)\n",
      "File \u001b[0;32m~/anaconda3/envs/TransformerVAE6/lib/python3.10/site-packages/datafed/MessageLib.py:429\u001b[0m, in \u001b[0;36mAPI.recv\u001b[0;34m(self, timeout, nack_except)\u001b[0m\n\u001b[1;32m    427\u001b[0m \u001b[38;5;28;01mif\u001b[39;00m msg_type \u001b[38;5;241m==\u001b[39m \u001b[38;5;124m\"\u001b[39m\u001b[38;5;124mNackReply\u001b[39m\u001b[38;5;124m\"\u001b[39m \u001b[38;5;129;01mand\u001b[39;00m _nack_except:\n\u001b[1;32m    428\u001b[0m     \u001b[38;5;28;01mif\u001b[39;00m reply\u001b[38;5;241m.\u001b[39merr_msg:\n\u001b[0;32m--> 429\u001b[0m         \u001b[38;5;28;01mraise\u001b[39;00m \u001b[38;5;167;01mException\u001b[39;00m(reply\u001b[38;5;241m.\u001b[39merr_msg)\n\u001b[1;32m    430\u001b[0m     \u001b[38;5;28;01melse\u001b[39;00m:\n\u001b[1;32m    431\u001b[0m         \u001b[38;5;28;01mraise\u001b[39;00m \u001b[38;5;167;01mException\u001b[39;00m(\u001b[38;5;124m\"\u001b[39m\u001b[38;5;124mServer error \u001b[39m\u001b[38;5;132;01m{}\u001b[39;00m\u001b[38;5;124m\"\u001b[39m\u001b[38;5;241m.\u001b[39mformat(reply\u001b[38;5;241m.\u001b[39merr_code))\n",
      "\u001b[0;31mException\u001b[0m: Invalid data record ID 'c/p_2024_transformer_vae_results_root/4dstem_dataset/save_model2_081424/epoch_100'\n(source: dbGet:138 code:1)\n"
     ]
    }
   ],
   "source": [
    "df_api.dataView(\"c/p_2024_transformer_vae_results_root/4dstem_dataset/save_model2_081424/epoch_100\")"
   ]
  },
  {
   "cell_type": "code",
   "execution_count": 46,
   "metadata": {},
   "outputs": [
    {
     "data": {
      "text/plain": [
       "(offset: 0\n",
       " count: 0\n",
       " total: 0,\n",
       " 'ListingReply')"
      ]
     },
     "execution_count": 46,
     "metadata": {},
     "output_type": "execute_result"
    }
   ],
   "source": [
    "df_api.queryDirect(owner = \"p/2024_transformer_vae_results\", coll=['4dstem_dataset','save_model2_081424'],meta=\"title==epoch_100\")"
   ]
  },
  {
   "cell_type": "code",
   "execution_count": 47,
   "metadata": {},
   "outputs": [
    {
     "ename": "TypeError",
     "evalue": "API.queryDirect() got an unexpected keyword argument 'parent_id'",
     "output_type": "error",
     "traceback": [
      "\u001b[0;31m---------------------------------------------------------------------------\u001b[0m",
      "\u001b[0;31mTypeError\u001b[0m                                 Traceback (most recent call last)",
      "Cell \u001b[0;32mIn[47], line 1\u001b[0m\n\u001b[0;32m----> 1\u001b[0m \u001b[43mdf_api\u001b[49m\u001b[38;5;241;43m.\u001b[39;49m\u001b[43mqueryDirect\u001b[49m\u001b[43m(\u001b[49m\u001b[43mparent_id\u001b[49m\u001b[43m \u001b[49m\u001b[38;5;241;43m=\u001b[39;49m\u001b[43m \u001b[49m\u001b[38;5;124;43m\"\u001b[39;49m\u001b[38;5;124;43mp/2024_transformer_vae_results\u001b[39;49m\u001b[38;5;124;43m\"\u001b[39;49m\u001b[43m)\u001b[49m\n",
      "\u001b[0;31mTypeError\u001b[0m: API.queryDirect() got an unexpected keyword argument 'parent_id'"
     ]
    }
   ],
   "source": [
    "df_api.queryDirect(owner = \"p/2024_transformer_vae_results\", parent_id = )"
   ]
  },
  {
   "cell_type": "code",
   "execution_count": 42,
   "metadata": {},
   "outputs": [
    {
     "data": {
      "text/plain": [
       "True"
      ]
     },
     "execution_count": 42,
     "metadata": {},
     "output_type": "execute_result"
    }
   ],
   "source": [
    "\"4DSTEM_Dataset\" in ls_resp[0].item[0].title"
   ]
  },
  {
   "cell_type": "code",
   "execution_count": 48,
   "metadata": {},
   "outputs": [
    {
     "ename": "AttributeError",
     "evalue": "'str' object has no attribute 'mode'",
     "output_type": "error",
     "traceback": [
      "\u001b[0;31m---------------------------------------------------------------------------\u001b[0m",
      "\u001b[0;31mAttributeError\u001b[0m                            Traceback (most recent call last)",
      "Cell \u001b[0;32mIn[48], line 1\u001b[0m\n\u001b[0;32m----> 1\u001b[0m \u001b[43mdf_api\u001b[49m\u001b[38;5;241;43m.\u001b[39;49m\u001b[43m_buildSearchRequest\u001b[49m\u001b[43m(\u001b[49m\u001b[43mmsg\u001b[49m\u001b[38;5;241;43m=\u001b[39;49m\u001b[38;5;124;43m\"\u001b[39;49m\u001b[38;5;124;43mEpoch_100\u001b[39;49m\u001b[38;5;124;43m\"\u001b[39;49m\u001b[43m)\u001b[49m\n",
      "File \u001b[0;32m~/anaconda3/envs/TransformerVAE6/lib/python3.10/site-packages/datafed/CommandLib.py:1672\u001b[0m, in \u001b[0;36mAPI._buildSearchRequest\u001b[0;34m(self, msg, coll_mode, coll, id, text, tags, schema, meta, meta_err, owner, creator, time_from, time_to, public, category, sort, sort_rev, offset, count)\u001b[0m\n\u001b[1;32m   1670\u001b[0m     msg\u001b[38;5;241m.\u001b[39mmode \u001b[38;5;241m=\u001b[39m \u001b[38;5;241m1\u001b[39m\n\u001b[1;32m   1671\u001b[0m \u001b[38;5;28;01melse\u001b[39;00m:\n\u001b[0;32m-> 1672\u001b[0m     \u001b[43mmsg\u001b[49m\u001b[38;5;241;43m.\u001b[39;49m\u001b[43mmode\u001b[49m \u001b[38;5;241m=\u001b[39m \u001b[38;5;241m0\u001b[39m\n\u001b[1;32m   1674\u001b[0m \u001b[38;5;66;03m# if category != None and not public:\u001b[39;00m\n\u001b[1;32m   1675\u001b[0m \u001b[38;5;66;03m#    raise Exception(\"Category search option is only available for public searches.\")\u001b[39;00m\n\u001b[1;32m   1677\u001b[0m \u001b[38;5;28;01mif\u001b[39;00m coll \u001b[38;5;129;01mis\u001b[39;00m \u001b[38;5;129;01mnot\u001b[39;00m \u001b[38;5;28;01mNone\u001b[39;00m:\n",
      "\u001b[0;31mAttributeError\u001b[0m: 'str' object has no attribute 'mode'"
     ]
    }
   ],
   "source": [
    "df_api._buildSearchRequest(coll=\"msg=\"Epoch_100\")"
   ]
  },
  {
   "cell_type": "code",
   "execution_count": 43,
   "metadata": {},
   "outputs": [
    {
     "name": "stdout",
     "output_type": "stream",
     "text": [
      "Y\n"
     ]
    }
   ],
   "source": [
    "if df_api.collectionItemsList(f\"c/p_{DataFed_project_test.lower()}_root\"):\n",
    "    print(\"Y\")\n",
    "else:\n",
    "    print(\"N\")\n"
   ]
  },
  {
   "cell_type": "code",
   "execution_count": 44,
   "metadata": {},
   "outputs": [
    {
     "ename": "Exception",
     "evalue": "Collection 'c/p_2024_transformer_vae_results' does not exist.\n(source: dbGet:138 code:1)\n",
     "output_type": "error",
     "traceback": [
      "\u001b[0;31m---------------------------------------------------------------------------\u001b[0m",
      "\u001b[0;31mException\u001b[0m                                 Traceback (most recent call last)",
      "Cell \u001b[0;32mIn[44], line 1\u001b[0m\n\u001b[0;32m----> 1\u001b[0m \u001b[38;5;28;01mif\u001b[39;00m \u001b[43mdf_api\u001b[49m\u001b[38;5;241;43m.\u001b[39;49m\u001b[43mcollectionItemsList\u001b[49m\u001b[43m(\u001b[49m\u001b[38;5;124;43mf\u001b[39;49m\u001b[38;5;124;43m\"\u001b[39;49m\u001b[38;5;124;43mc/p_\u001b[39;49m\u001b[38;5;132;43;01m{\u001b[39;49;00m\u001b[43mDataFed_project_test\u001b[49m\u001b[38;5;241;43m.\u001b[39;49m\u001b[43mlower\u001b[49m\u001b[43m(\u001b[49m\u001b[43m)\u001b[49m\u001b[38;5;132;43;01m}\u001b[39;49;00m\u001b[38;5;124;43m\"\u001b[39;49m\u001b[43m)\u001b[49m:\n\u001b[1;32m      2\u001b[0m     \u001b[38;5;28mprint\u001b[39m(\u001b[38;5;124m\"\u001b[39m\u001b[38;5;124mY\u001b[39m\u001b[38;5;124m\"\u001b[39m)\n\u001b[1;32m      3\u001b[0m \u001b[38;5;28;01melse\u001b[39;00m:\n",
      "File \u001b[0;32m~/anaconda3/envs/TransformerVAE6/lib/python3.10/site-packages/datafed/CommandLib.py:1242\u001b[0m, in \u001b[0;36mAPI.collectionItemsList\u001b[0;34m(self, coll_id, offset, count, context)\u001b[0m\n\u001b[1;32m   1239\u001b[0m msg\u001b[38;5;241m.\u001b[39moffset \u001b[38;5;241m=\u001b[39m offset\n\u001b[1;32m   1240\u001b[0m msg\u001b[38;5;241m.\u001b[39mid \u001b[38;5;241m=\u001b[39m \u001b[38;5;28mself\u001b[39m\u001b[38;5;241m.\u001b[39m_resolve_id(coll_id, context)\n\u001b[0;32m-> 1242\u001b[0m \u001b[38;5;28;01mreturn\u001b[39;00m \u001b[38;5;28;43mself\u001b[39;49m\u001b[38;5;241;43m.\u001b[39;49m\u001b[43m_mapi\u001b[49m\u001b[38;5;241;43m.\u001b[39;49m\u001b[43msendRecv\u001b[49m\u001b[43m(\u001b[49m\u001b[43mmsg\u001b[49m\u001b[43m)\u001b[49m\n",
      "File \u001b[0;32m~/anaconda3/envs/TransformerVAE6/lib/python3.10/site-packages/datafed/MessageLib.py:384\u001b[0m, in \u001b[0;36mAPI.sendRecv\u001b[0;34m(self, msg, timeout, nack_except)\u001b[0m\n\u001b[1;32m    382\u001b[0m \u001b[38;5;28mself\u001b[39m\u001b[38;5;241m.\u001b[39msend(msg)\n\u001b[1;32m    383\u001b[0m _timeout \u001b[38;5;241m=\u001b[39m timeout \u001b[38;5;28;01mif\u001b[39;00m timeout \u001b[38;5;129;01mis\u001b[39;00m \u001b[38;5;129;01mnot\u001b[39;00m \u001b[38;5;28;01mNone\u001b[39;00m \u001b[38;5;28;01melse\u001b[39;00m \u001b[38;5;28mself\u001b[39m\u001b[38;5;241m.\u001b[39m_timeout\n\u001b[0;32m--> 384\u001b[0m reply, mt, ctxt \u001b[38;5;241m=\u001b[39m \u001b[38;5;28;43mself\u001b[39;49m\u001b[38;5;241;43m.\u001b[39;49m\u001b[43mrecv\u001b[49m\u001b[43m(\u001b[49m\u001b[43m_timeout\u001b[49m\u001b[43m,\u001b[49m\u001b[43m \u001b[49m\u001b[43mnack_except\u001b[49m\u001b[43m)\u001b[49m\n\u001b[1;32m    385\u001b[0m \u001b[38;5;28;01mif\u001b[39;00m reply \u001b[38;5;129;01mis\u001b[39;00m \u001b[38;5;28;01mNone\u001b[39;00m:\n\u001b[1;32m    386\u001b[0m     \u001b[38;5;28;01mraise\u001b[39;00m \u001b[38;5;167;01mException\u001b[39;00m(\u001b[38;5;124m\"\u001b[39m\u001b[38;5;124mTimeout!!!!!!!!!\u001b[39m\u001b[38;5;124m\"\u001b[39m)\n",
      "File \u001b[0;32m~/anaconda3/envs/TransformerVAE6/lib/python3.10/site-packages/datafed/MessageLib.py:429\u001b[0m, in \u001b[0;36mAPI.recv\u001b[0;34m(self, timeout, nack_except)\u001b[0m\n\u001b[1;32m    427\u001b[0m \u001b[38;5;28;01mif\u001b[39;00m msg_type \u001b[38;5;241m==\u001b[39m \u001b[38;5;124m\"\u001b[39m\u001b[38;5;124mNackReply\u001b[39m\u001b[38;5;124m\"\u001b[39m \u001b[38;5;129;01mand\u001b[39;00m _nack_except:\n\u001b[1;32m    428\u001b[0m     \u001b[38;5;28;01mif\u001b[39;00m reply\u001b[38;5;241m.\u001b[39merr_msg:\n\u001b[0;32m--> 429\u001b[0m         \u001b[38;5;28;01mraise\u001b[39;00m \u001b[38;5;167;01mException\u001b[39;00m(reply\u001b[38;5;241m.\u001b[39merr_msg)\n\u001b[1;32m    430\u001b[0m     \u001b[38;5;28;01melse\u001b[39;00m:\n\u001b[1;32m    431\u001b[0m         \u001b[38;5;28;01mraise\u001b[39;00m \u001b[38;5;167;01mException\u001b[39;00m(\u001b[38;5;124m\"\u001b[39m\u001b[38;5;124mServer error \u001b[39m\u001b[38;5;132;01m{}\u001b[39;00m\u001b[38;5;124m\"\u001b[39m\u001b[38;5;241m.\u001b[39mformat(reply\u001b[38;5;241m.\u001b[39merr_code))\n",
      "\u001b[0;31mException\u001b[0m: Collection 'c/p_2024_transformer_vae_results' does not exist.\n(source: dbGet:138 code:1)\n"
     ]
    }
   ],
   "source": [
    "if df_api.collectionItemsList(f\"c/p_{DataFed_project_test.lower()}\"):\n",
    "    print(\"Y\")\n",
    "else:\n",
    "    print(\"N\")"
   ]
  },
  {
   "cell_type": "code",
   "execution_count": 50,
   "metadata": {},
   "outputs": [],
   "source": [
    "import os\n",
    "import sys\n",
    "\n",
    "sys.path.append(os.path.abspath('..'))\n",
    "sys.path.append(os.path.abspath('../src'))\n",
    "\n",
    "from datafed_torchflow.datafed import DataFed \n",
    "from datafed_torchflow.pytorch import TorchLogger "
   ]
  },
  {
   "cell_type": "code",
   "execution_count": null,
   "metadata": {},
   "outputs": [],
   "source": []
  },
  {
   "cell_type": "code",
   "execution_count": 63,
   "metadata": {},
   "outputs": [
    {
     "name": "stdout",
     "output_type": "stream",
     "text": [
      "Unable to connect to pypi: <Fault -32500: 'RuntimeError: PyPI no longer supports the XMLRPC package_releases method. Use JSON or Simple API instead. See https://github.com/pypi/warehouse/issues/16642 and https://warehouse.pypa.io/api-reference/xml-rpc.html#deprecated-methods for more information.'>\n"
     ]
    }
   ],
   "source": [
    "datafed = DataFed(\"2024_Transformer_VAE_results/4DSTEM_Dataset/save_model2_081424\")"
   ]
  },
  {
   "cell_type": "code",
   "execution_count": 58,
   "metadata": {},
   "outputs": [
    {
     "name": "stdout",
     "output_type": "stream",
     "text": [
      "['2024_Transformer_VAE_results', '4DSTEM_dataset', 'save_model2_081424']\n",
      "c/p_2024_transformer_vae_results_root\n",
      "(['4DSTEM_Dataset', 'Nala_Dataset', 'Piezoresponse_Dataset'], (item {\n",
      "  id: \"c/525610490\"\n",
      "  title: \"4DSTEM_Dataset\"\n",
      "  alias: \"4dstem_dataset\"\n",
      "  owner: \"p/2024_transformer_vae_results\"\n",
      "  creator: \"u/jg3837\"\n",
      "  notes: 0\n",
      "}\n",
      "item {\n",
      "  id: \"c/525610491\"\n",
      "  title: \"Nala_Dataset\"\n",
      "  alias: \"nala_dataset\"\n",
      "  owner: \"p/2024_transformer_vae_results\"\n",
      "  creator: \"u/jg3837\"\n",
      "  notes: 0\n",
      "}\n",
      "item {\n",
      "  id: \"c/525610492\"\n",
      "  title: \"Piezoresponse_Dataset\"\n",
      "  owner: \"p/2024_transformer_vae_results\"\n",
      "  creator: \"u/jg3837\"\n",
      "  notes: 0\n",
      "}\n",
      "offset: 0\n",
      "count: 20\n",
      "total: 3\n",
      ", 'ListingReply'))\n"
     ]
    }
   ],
   "source": [
    "print(datafed._parse_cwd)\n",
    "print(datafed.getRootColl)\n",
    "print(datafed.getCollList(datafed.getRootColl))"
   ]
  },
  {
   "cell_type": "code",
   "execution_count": 60,
   "metadata": {},
   "outputs": [
    {
     "ename": "ValueError",
     "evalue": "can only convert an array of size 1 to a Python scalar",
     "output_type": "error",
     "traceback": [
      "\u001b[0;31m---------------------------------------------------------------------------\u001b[0m",
      "\u001b[0;31mValueError\u001b[0m                                Traceback (most recent call last)",
      "Cell \u001b[0;32mIn[60], line 2\u001b[0m\n\u001b[1;32m      1\u001b[0m \u001b[38;5;28;01mfor\u001b[39;00m collection \u001b[38;5;129;01min\u001b[39;00m datafed\u001b[38;5;241m.\u001b[39m_parse_cwd[\u001b[38;5;241m1\u001b[39m:]:\n\u001b[0;32m----> 2\u001b[0m     current_collection \u001b[38;5;241m=\u001b[39m ls_resp[\u001b[38;5;241m0\u001b[39m]\u001b[38;5;241m.\u001b[39mitem[\u001b[43mnp\u001b[49m\u001b[38;5;241;43m.\u001b[39;49m\u001b[43mwhere\u001b[49m\u001b[43m(\u001b[49m\u001b[43m[\u001b[49m\u001b[43mrecord\u001b[49m\u001b[38;5;241;43m.\u001b[39;49m\u001b[43mtitle\u001b[49m\u001b[43m \u001b[49m\u001b[38;5;241;43m==\u001b[39;49m\u001b[43m \u001b[49m\u001b[43mcollection\u001b[49m\u001b[43m \u001b[49m\u001b[38;5;28;43;01mfor\u001b[39;49;00m\u001b[43m \u001b[49m\u001b[43mrecord\u001b[49m\u001b[43m \u001b[49m\u001b[38;5;129;43;01min\u001b[39;49;00m\u001b[43m \u001b[49m\u001b[43mls_resp\u001b[49m\u001b[43m[\u001b[49m\u001b[38;5;241;43m0\u001b[39;49m\u001b[43m]\u001b[49m\u001b[38;5;241;43m.\u001b[39;49m\u001b[43mitem\u001b[49m\u001b[43m]\u001b[49m\u001b[43m)\u001b[49m\u001b[43m[\u001b[49m\u001b[38;5;241;43m0\u001b[39;49m\u001b[43m]\u001b[49m\u001b[38;5;241;43m.\u001b[39;49m\u001b[43mitem\u001b[49m\u001b[43m(\u001b[49m\u001b[43m)\u001b[49m]\u001b[38;5;241m.\u001b[39mid\n\u001b[1;32m      3\u001b[0m \u001b[38;5;28mprint\u001b[39m(current_collection)\n",
      "\u001b[0;31mValueError\u001b[0m: can only convert an array of size 1 to a Python scalar"
     ]
    }
   ],
   "source": [
    "for collection in datafed._parse_cwd[1:]:\n",
    "    current_collection = ls_resp[0].item[np.where([record.title == collection for record in ls_resp[0].item])[0].item()].id\n",
    "\n",
    "print(current_collection)"
   ]
  },
  {
   "cell_type": "code",
   "execution_count": 61,
   "metadata": {},
   "outputs": [],
   "source": [
    "datafed.create_subfolder_if_not_exists()"
   ]
  },
  {
   "cell_type": "code",
   "execution_count": 64,
   "metadata": {},
   "outputs": [
    {
     "data": {
      "text/plain": [
       "'c/525610514'"
      ]
     },
     "execution_count": 64,
     "metadata": {},
     "output_type": "execute_result"
    }
   ],
   "source": [
    "datafed.collection_id"
   ]
  },
  {
   "cell_type": "code",
   "execution_count": 66,
   "metadata": {},
   "outputs": [],
   "source": [
    "ls_resp_2 = df_api.collectionItemsList(datafed.collection_id)"
   ]
  },
  {
   "cell_type": "code",
   "execution_count": 83,
   "metadata": {},
   "outputs": [
    {
     "data": {
      "text/plain": [
       "'d/525617533'"
      ]
     },
     "execution_count": 83,
     "metadata": {},
     "output_type": "execute_result"
    }
   ],
   "source": [
    "ls_resp_2[0].item[np.where([record.title == \"epoch_100\" for record in ls_resp_2[0].item])[0].item()].id"
   ]
  },
  {
   "cell_type": "code",
   "execution_count": 72,
   "metadata": {},
   "outputs": [
    {
     "data": {
      "text/plain": [
       "[True,\n",
       " False,\n",
       " False,\n",
       " False,\n",
       " False,\n",
       " False,\n",
       " False,\n",
       " False,\n",
       " False,\n",
       " False,\n",
       " False,\n",
       " False,\n",
       " False,\n",
       " False,\n",
       " False,\n",
       " False,\n",
       " False,\n",
       " False,\n",
       " False,\n",
       " False]"
      ]
     },
     "execution_count": 72,
     "metadata": {},
     "output_type": "execute_result"
    }
   ],
   "source": [
    "[record.title == \"epoch_100\" for record in ls_resp_2[0].item]"
   ]
  },
  {
   "cell_type": "code",
   "execution_count": 78,
   "metadata": {},
   "outputs": [
    {
     "data": {
      "text/plain": [
       "0"
      ]
     },
     "execution_count": 78,
     "metadata": {},
     "output_type": "execute_result"
    }
   ],
   "source": [
    "np.where([record.title == \"epoch_100\" for record in ls_resp_2[0].item])[0].item()"
   ]
  },
  {
   "cell_type": "code",
   "execution_count": 6,
   "metadata": {},
   "outputs": [],
   "source": [
    "DataFed_path = \"2024_test_pytorch/model_2/test_collection_2/test_record.txt\"  \n",
    "model_base_name = \"test\""
   ]
  },
  {
   "cell_type": "code",
   "execution_count": null,
   "metadata": {},
   "outputs": [],
   "source": []
  },
  {
   "cell_type": "code",
   "execution_count": 7,
   "metadata": {},
   "outputs": [],
   "source": [
    "torchlogger = TorchLogger(DataFed_path, model_base_name, isRecord=True)"
   ]
  },
  {
   "cell_type": "code",
   "execution_count": 8,
   "metadata": {},
   "outputs": [
    {
     "name": "stdout",
     "output_type": "stream",
     "text": [
      "Exception: Authentication required\n",
      "********************\n",
      "Traceback: Traceback (most recent call last):\n",
      "  File \"/home/ferroelectric/DataFed_TorchFlow-1/src/datafed_torchflow/pytorch.py\", line 46, in get_DataFed_ID_from_path\n",
      "    ls_resp = self.df_api.collectionItemsList(DataFed_parent_collection_id)\n",
      "              ^^^^^^^^^^^^^^^^^^^^^^^^^^^^^^^^^^^^^^^^^^^^^^^^^^^^^^^^^^^^^\n",
      "  File \"/home/ferroelectric/anaconda3/envs/m3/lib/python3.11/site-packages/datafed/CommandLib.py\", line 1242, in collectionItemsList\n",
      "    return self._mapi.sendRecv(msg)\n",
      "           ^^^^^^^^^^^^^^^^^^^^^^^^\n",
      "  File \"/home/ferroelectric/anaconda3/envs/m3/lib/python3.11/site-packages/datafed/MessageLib.py\", line 384, in sendRecv\n",
      "    reply, mt, ctxt = self.recv(_timeout, nack_except)\n",
      "                      ^^^^^^^^^^^^^^^^^^^^^^^^^^^^^^^^\n",
      "  File \"/home/ferroelectric/anaconda3/envs/m3/lib/python3.11/site-packages/datafed/MessageLib.py\", line 429, in recv\n",
      "    raise Exception(reply.err_msg)\n",
      "Exception: Authentication required\n",
      "\n",
      "********************\n",
      "Project does not exist\n",
      "Manually create the project and try again\n"
     ]
    }
   ],
   "source": [
    "torchlogger.get_DataFed_ID_from_path()"
   ]
  },
  {
   "cell_type": "code",
   "execution_count": 4,
   "metadata": {},
   "outputs": [
    {
     "data": {
      "text/plain": [
       "'d/525617628'"
      ]
     },
     "execution_count": 4,
     "metadata": {},
     "output_type": "execute_result"
    }
   ],
   "source": [
    "torchlogger.get_DataFed_ID_from_path()"
   ]
  },
  {
   "cell_type": "code",
   "execution_count": 6,
   "metadata": {},
   "outputs": [],
   "source": [
    "def test_func(test_str):\n",
    "    return test_str.split(\"/\")"
   ]
  },
  {
   "cell_type": "code",
   "execution_count": 8,
   "metadata": {},
   "outputs": [],
   "source": [
    "test_list = test_func(DataFed_path)"
   ]
  },
  {
   "cell_type": "code",
   "execution_count": 9,
   "metadata": {},
   "outputs": [
    {
     "data": {
      "text/plain": [
       "['root', 'model_080824_525610505', 'test_collection', 'test_record.txt']"
      ]
     },
     "execution_count": 9,
     "metadata": {},
     "output_type": "execute_result"
    }
   ],
   "source": [
    "test_list"
   ]
  },
  {
   "cell_type": "code",
   "execution_count": 10,
   "metadata": {},
   "outputs": [
    {
     "data": {
      "text/plain": [
       "False"
      ]
     },
     "execution_count": 10,
     "metadata": {},
     "output_type": "execute_result"
    }
   ],
   "source": [
    "'test' in []"
   ]
  },
  {
   "cell_type": "code",
   "execution_count": 5,
   "metadata": {},
   "outputs": [],
   "source": [
    "from datafed.CommandLib import API\n",
    "df_api = API()\n"
   ]
  },
  {
   "cell_type": "code",
   "execution_count": 8,
   "metadata": {},
   "outputs": [],
   "source": [
    "ls_resp = df_api.collectionItemsList(\"c/p_2024_test_pytorch_root\")"
   ]
  },
  {
   "cell_type": "code",
   "execution_count": 10,
   "metadata": {},
   "outputs": [
    {
     "data": {
      "text/plain": [
       "offset: 0\n",
       "count: 20\n",
       "total: 0"
      ]
     },
     "execution_count": 10,
     "metadata": {},
     "output_type": "execute_result"
    }
   ],
   "source": [
    "ls_resp[0]"
   ]
  },
  {
   "cell_type": "code",
   "execution_count": 11,
   "metadata": {},
   "outputs": [
    {
     "data": {
      "text/plain": [
       "(coll {\n",
       "   id: \"c/p_2024_test_pytorch_root\"\n",
       "   title: \"Root Collection\"\n",
       "   alias: \"root\"\n",
       "   desc: \"Root collection for project 2024_test_pytorch\"\n",
       "   owner: \"p/2024_test_pytorch\"\n",
       "   notes: 0\n",
       " },\n",
       " 'CollDataReply')"
      ]
     },
     "execution_count": 11,
     "metadata": {},
     "output_type": "execute_result"
    }
   ],
   "source": [
    "df_api.collectionView(\"c/p_2024_test_pytorch_root\")"
   ]
  },
  {
   "cell_type": "code",
   "execution_count": 6,
   "metadata": {},
   "outputs": [],
   "source": [
    "ls_resp2 = df_api.collectionItemsList(\"c/p_2024_transformer_vae_results_root\")"
   ]
  },
  {
   "cell_type": "code",
   "execution_count": 7,
   "metadata": {},
   "outputs": [
    {
     "data": {
      "text/plain": [
       "id: \"c/525610491\"\n",
       "title: \"Nala_Dataset\"\n",
       "owner: \"p/2024_transformer_vae_results\"\n",
       "creator: \"u/jg3837\"\n",
       "notes: 0"
      ]
     },
     "execution_count": 7,
     "metadata": {},
     "output_type": "execute_result"
    }
   ],
   "source": [
    "ls_resp2[0].item[1]"
   ]
  },
  {
   "cell_type": "code",
   "execution_count": 5,
   "metadata": {},
   "outputs": [
    {
     "data": {
      "text/plain": [
       "'2024_test_pytorch/model_080824_525610505/test_collection/test_record.txt'"
      ]
     },
     "execution_count": 5,
     "metadata": {},
     "output_type": "execute_result"
    }
   ],
   "source": [
    "DataFed_path"
   ]
  },
  {
   "cell_type": "code",
   "execution_count": 26,
   "metadata": {},
   "outputs": [
    {
     "ename": "AttributeError",
     "evalue": "'list' object has no attribute 'flatten'",
     "output_type": "error",
     "traceback": [
      "\u001b[0;31m---------------------------------------------------------------------------\u001b[0m",
      "\u001b[0;31mAttributeError\u001b[0m                            Traceback (most recent call last)",
      "Cell \u001b[0;32mIn[26], line 1\u001b[0m\n\u001b[0;32m----> 1\u001b[0m \u001b[38;5;28;43mlist\u001b[39;49m\u001b[43m(\u001b[49m\u001b[43mDataFed_path\u001b[49m\u001b[38;5;241;43m.\u001b[39;49m\u001b[43mpartition\u001b[49m\u001b[43m(\u001b[49m\u001b[38;5;124;43m\"\u001b[39;49m\u001b[38;5;124;43mmodel_080824\u001b[39;49m\u001b[38;5;124;43m\"\u001b[39;49m\u001b[43m)\u001b[49m\u001b[43m[\u001b[49m\u001b[38;5;241;43m0\u001b[39;49m\u001b[43m:\u001b[49m\u001b[38;5;241;43m2\u001b[39;49m\u001b[43m]\u001b[49m\u001b[43m)\u001b[49m\u001b[38;5;241;43m.\u001b[39;49m\u001b[43mflatten\u001b[49m()\n",
      "\u001b[0;31mAttributeError\u001b[0m: 'list' object has no attribute 'flatten'"
     ]
    }
   ],
   "source": [
    "list(DataFed_path.partition(\"model_080824\")[0:2])"
   ]
  },
  {
   "cell_type": "code",
   "execution_count": 28,
   "metadata": {},
   "outputs": [
    {
     "data": {
      "text/plain": [
       "'2024_test_pytorch/model_080824_525610505'"
      ]
     },
     "execution_count": 28,
     "metadata": {},
     "output_type": "execute_result"
    }
   ],
   "source": [
    "\"/\".join(DataFed_path.split(\"/\")[0:2])"
   ]
  },
  {
   "cell_type": "code",
   "execution_count": 5,
   "metadata": {},
   "outputs": [],
   "source": [
    "DataFed_path_list = DataFed_path.split(\"/\")"
   ]
  },
  {
   "cell_type": "code",
   "execution_count": 27,
   "metadata": {},
   "outputs": [
    {
     "data": {
      "text/plain": [
       "('', 'a', 'bcdefafa')"
      ]
     },
     "execution_count": 27,
     "metadata": {},
     "output_type": "execute_result"
    }
   ],
   "source": [
    "\"abcdefafa\".partition(\"a\")"
   ]
  },
  {
   "cell_type": "code",
   "execution_count": 7,
   "metadata": {},
   "outputs": [
    {
     "data": {
      "text/plain": [
       "'2024_test_pytorch/model_080824_525610505'"
      ]
     },
     "execution_count": 7,
     "metadata": {},
     "output_type": "execute_result"
    }
   ],
   "source": [
    "\"/\".join(DataFed_path_list[0:1+1])\n"
   ]
  },
  {
   "cell_type": "code",
   "execution_count": 31,
   "metadata": {},
   "outputs": [
    {
     "data": {
      "text/plain": [
       "['abcd']"
      ]
     },
     "execution_count": 31,
     "metadata": {},
     "output_type": "execute_result"
    }
   ],
   "source": [
    "[\"abcd\"][0:1]"
   ]
  },
  {
   "cell_type": "code",
   "execution_count": 6,
   "metadata": {},
   "outputs": [],
   "source": [
    "dataView = df_api.dataView('d/525619276')"
   ]
  },
  {
   "cell_type": "code",
   "execution_count": 11,
   "metadata": {},
   "outputs": [
    {
     "data": {
      "text/plain": [
       "[id: \"d/525619275\"\n",
       "type: DEP_IS_DERIVED_FROM\n",
       "dir: DEP_OUT\n",
       ", id: \"d/525619277\"\n",
       "type: DEP_IS_DERIVED_FROM\n",
       "dir: DEP_IN\n",
       "]"
      ]
     },
     "execution_count": 11,
     "metadata": {},
     "output_type": "execute_result"
    }
   ],
   "source": [
    "dataView[0].data[0].deps"
   ]
  },
  {
   "cell_type": "code",
   "execution_count": 12,
   "metadata": {},
   "outputs": [],
   "source": [
    "derived_from_info = [['der', 'd/525619275'], ['der', 'd/525619280']]"
   ]
  },
  {
   "cell_type": "code",
   "execution_count": 18,
   "metadata": {},
   "outputs": [],
   "source": [
    "for elem in derived_from_info:\n",
    "    if elem in dataView[0].data[0].deps:\n",
    "        print(elem)"
   ]
  },
  {
   "cell_type": "code",
   "execution_count": 19,
   "metadata": {},
   "outputs": [
    {
     "name": "stdout",
     "output_type": "stream",
     "text": [
      "id: \"d/525619275\"\n",
      "type: DEP_IS_DERIVED_FROM\n",
      "dir: DEP_OUT\n",
      "\n",
      "id: \"d/525619277\"\n",
      "type: DEP_IS_DERIVED_FROM\n",
      "dir: DEP_IN\n",
      "\n"
     ]
    }
   ],
   "source": [
    "for elem2 in dataView[0].data[0].deps:\n",
    "    print(elem2)"
   ]
  },
  {
   "cell_type": "code",
   "execution_count": 20,
   "metadata": {},
   "outputs": [
    {
     "data": {
      "text/plain": [
       "['MNSIT_epoch_1_loss', '0.042457']"
      ]
     },
     "execution_count": 20,
     "metadata": {},
     "output_type": "execute_result"
    }
   ],
   "source": [
    "'MNSIT_epoch_1_loss_0.042457'.rsplit(\"_\",1)"
   ]
  },
  {
   "cell_type": "code",
   "execution_count": 21,
   "metadata": {},
   "outputs": [
    {
     "data": {
      "text/plain": [
       "['MNSIT_epoch_1_loss_0', '042457']"
      ]
     },
     "execution_count": 21,
     "metadata": {},
     "output_type": "execute_result"
    }
   ],
   "source": [
    "'MNSIT_epoch_1_loss_0_042457'.rsplit(\"_\",1)"
   ]
  },
  {
   "cell_type": "code",
   "execution_count": 24,
   "metadata": {},
   "outputs": [
    {
     "data": {
      "text/plain": [
       "True"
      ]
     },
     "execution_count": 24,
     "metadata": {},
     "output_type": "execute_result"
    }
   ],
   "source": [
    "'MNSIT_epoch_1_loss_0.04257' in ['MNSIT_epoch_1_loss_0.234234','MNSIT_epoch_1_loss_0.04257']"
   ]
  },
  {
   "cell_type": "code",
   "execution_count": 25,
   "metadata": {},
   "outputs": [
    {
     "ename": "Exception",
     "evalue": "Invalid data record ID 'p:2024_test_pytorch:2024_test_pytorch/Root Collection/Model_2/delete_me/Model_logger.ipynb'\n(source: dbGet:138 code:1)\n",
     "output_type": "error",
     "traceback": [
      "\u001b[0;31m---------------------------------------------------------------------------\u001b[0m",
      "\u001b[0;31mException\u001b[0m                                 Traceback (most recent call last)",
      "Cell \u001b[0;32mIn[25], line 1\u001b[0m\n\u001b[0;32m----> 1\u001b[0m dataView \u001b[38;5;241m=\u001b[39m \u001b[43mdf_api\u001b[49m\u001b[38;5;241;43m.\u001b[39;49m\u001b[43mdataView\u001b[49m\u001b[43m(\u001b[49m\u001b[38;5;124;43m'\u001b[39;49m\u001b[38;5;124;43m2024_test_pytorch/Root Collection/Model_2/delete_me/Model_logger.ipynb\u001b[39;49m\u001b[38;5;124;43m'\u001b[39;49m\u001b[43m)\u001b[49m\n",
      "File \u001b[0;32m~/anaconda3/envs/TransformerVAE6/lib/python3.10/site-packages/datafed/CommandLib.py:348\u001b[0m, in \u001b[0;36mAPI.dataView\u001b[0;34m(self, data_id, details, context)\u001b[0m\n\u001b[1;32m    345\u001b[0m msg\u001b[38;5;241m.\u001b[39mid \u001b[38;5;241m=\u001b[39m \u001b[38;5;28mself\u001b[39m\u001b[38;5;241m.\u001b[39m_resolve_id(data_id, context)\n\u001b[1;32m    346\u001b[0m msg\u001b[38;5;241m.\u001b[39mdetails \u001b[38;5;241m=\u001b[39m details\n\u001b[0;32m--> 348\u001b[0m \u001b[38;5;28;01mreturn\u001b[39;00m \u001b[38;5;28;43mself\u001b[39;49m\u001b[38;5;241;43m.\u001b[39;49m\u001b[43m_mapi\u001b[49m\u001b[38;5;241;43m.\u001b[39;49m\u001b[43msendRecv\u001b[49m\u001b[43m(\u001b[49m\u001b[43mmsg\u001b[49m\u001b[43m)\u001b[49m\n",
      "File \u001b[0;32m~/anaconda3/envs/TransformerVAE6/lib/python3.10/site-packages/datafed/MessageLib.py:384\u001b[0m, in \u001b[0;36mAPI.sendRecv\u001b[0;34m(self, msg, timeout, nack_except)\u001b[0m\n\u001b[1;32m    382\u001b[0m \u001b[38;5;28mself\u001b[39m\u001b[38;5;241m.\u001b[39msend(msg)\n\u001b[1;32m    383\u001b[0m _timeout \u001b[38;5;241m=\u001b[39m timeout \u001b[38;5;28;01mif\u001b[39;00m timeout \u001b[38;5;129;01mis\u001b[39;00m \u001b[38;5;129;01mnot\u001b[39;00m \u001b[38;5;28;01mNone\u001b[39;00m \u001b[38;5;28;01melse\u001b[39;00m \u001b[38;5;28mself\u001b[39m\u001b[38;5;241m.\u001b[39m_timeout\n\u001b[0;32m--> 384\u001b[0m reply, mt, ctxt \u001b[38;5;241m=\u001b[39m \u001b[38;5;28;43mself\u001b[39;49m\u001b[38;5;241;43m.\u001b[39;49m\u001b[43mrecv\u001b[49m\u001b[43m(\u001b[49m\u001b[43m_timeout\u001b[49m\u001b[43m,\u001b[49m\u001b[43m \u001b[49m\u001b[43mnack_except\u001b[49m\u001b[43m)\u001b[49m\n\u001b[1;32m    385\u001b[0m \u001b[38;5;28;01mif\u001b[39;00m reply \u001b[38;5;129;01mis\u001b[39;00m \u001b[38;5;28;01mNone\u001b[39;00m:\n\u001b[1;32m    386\u001b[0m     \u001b[38;5;28;01mraise\u001b[39;00m \u001b[38;5;167;01mException\u001b[39;00m(\u001b[38;5;124m\"\u001b[39m\u001b[38;5;124mTimeout!!!!!!!!!\u001b[39m\u001b[38;5;124m\"\u001b[39m)\n",
      "File \u001b[0;32m~/anaconda3/envs/TransformerVAE6/lib/python3.10/site-packages/datafed/MessageLib.py:429\u001b[0m, in \u001b[0;36mAPI.recv\u001b[0;34m(self, timeout, nack_except)\u001b[0m\n\u001b[1;32m    427\u001b[0m \u001b[38;5;28;01mif\u001b[39;00m msg_type \u001b[38;5;241m==\u001b[39m \u001b[38;5;124m\"\u001b[39m\u001b[38;5;124mNackReply\u001b[39m\u001b[38;5;124m\"\u001b[39m \u001b[38;5;129;01mand\u001b[39;00m _nack_except:\n\u001b[1;32m    428\u001b[0m     \u001b[38;5;28;01mif\u001b[39;00m reply\u001b[38;5;241m.\u001b[39merr_msg:\n\u001b[0;32m--> 429\u001b[0m         \u001b[38;5;28;01mraise\u001b[39;00m \u001b[38;5;167;01mException\u001b[39;00m(reply\u001b[38;5;241m.\u001b[39merr_msg)\n\u001b[1;32m    430\u001b[0m     \u001b[38;5;28;01melse\u001b[39;00m:\n\u001b[1;32m    431\u001b[0m         \u001b[38;5;28;01mraise\u001b[39;00m \u001b[38;5;167;01mException\u001b[39;00m(\u001b[38;5;124m\"\u001b[39m\u001b[38;5;124mServer error \u001b[39m\u001b[38;5;132;01m{}\u001b[39;00m\u001b[38;5;124m\"\u001b[39m\u001b[38;5;241m.\u001b[39mformat(reply\u001b[38;5;241m.\u001b[39merr_code))\n",
      "\u001b[0;31mException\u001b[0m: Invalid data record ID 'p:2024_test_pytorch:2024_test_pytorch/Root Collection/Model_2/delete_me/Model_logger.ipynb'\n(source: dbGet:138 code:1)\n"
     ]
    }
   ],
   "source": []
  },
  {
   "cell_type": "code",
   "execution_count": 1,
   "metadata": {},
   "outputs": [],
   "source": [
    "import inspect\n",
    "def get_return_variables(func):\n",
    "    # Get the source code of the function\n",
    "    source = inspect.getsource(func)\n",
    "    \n",
    "    # Parse the source code into an AST\n",
    "    tree = ast.parse(source)\n",
    "    \n",
    "    # Navigate to the function definition in the AST\n",
    "    function_node = next(node for node in tree.body if isinstance(node, ast.FunctionDef))\n",
    "    \n",
    "    # Extract the return statement\n",
    "    return_vars = []\n",
    "    for node in ast.walk(function_node):\n",
    "        if isinstance(node, ast.Return):\n",
    "            # Check if the return value is a tuple or a single value\n",
    "            if isinstance(node.value, ast.Tuple):\n",
    "                return_vars = [elt.id for elt in node.value.elts if isinstance(elt, ast.Name)]\n",
    "            elif isinstance(node.value, ast.Name):\n",
    "                return_vars = [node.value.id]\n",
    "            break\n",
    "            \n",
    "    return return_vars"
   ]
  },
  {
   "cell_type": "code",
   "execution_count": 2,
   "metadata": {},
   "outputs": [
    {
     "ename": "NameError",
     "evalue": "name 'model' is not defined",
     "output_type": "error",
     "traceback": [
      "\u001b[0;31m---------------------------------------------------------------------------\u001b[0m",
      "\u001b[0;31mNameError\u001b[0m                                 Traceback (most recent call last)",
      "Cell \u001b[0;32mIn[2], line 1\u001b[0m\n\u001b[0;32m----> 1\u001b[0m get_return_variables(\u001b[43mmodel\u001b[49m)\n",
      "\u001b[0;31mNameError\u001b[0m: name 'model' is not defined"
     ]
    }
   ],
   "source": [
    "get_return_variables(model)"
   ]
  },
  {
   "cell_type": "code",
   "execution_count": 2,
   "metadata": {},
   "outputs": [
    {
     "data": {
      "text/plain": [
       "'525610491'"
      ]
     },
     "execution_count": 2,
     "metadata": {},
     "output_type": "execute_result"
    }
   ],
   "source": [
    "\"c/525610491\"[2:]"
   ]
  },
  {
   "cell_type": "code",
   "execution_count": null,
   "metadata": {},
   "outputs": [],
   "source": []
  }
 ],
 "metadata": {
  "kernelspec": {
   "display_name": "Python 3",
   "language": "python",
   "name": "python3"
  },
  "language_info": {
   "codemirror_mode": {
    "name": "ipython",
    "version": 3
   },
   "file_extension": ".py",
   "mimetype": "text/x-python",
   "name": "python",
   "nbconvert_exporter": "python",
   "pygments_lexer": "ipython3",
   "version": "3.10.12"
  }
 },
 "nbformat": 4,
 "nbformat_minor": 2
}
